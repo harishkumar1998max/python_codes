{
 "cells": [
  {
   "cell_type": "code",
   "execution_count": 18,
   "id": "ae289850",
   "metadata": {},
   "outputs": [
    {
     "name": "stdout",
     "output_type": "stream",
     "text": [
      "enter the no of inputs:5\n",
      "-9,-9,-4,6,5,7,6,0,0\n",
      "positive ratio : 0.800000\n",
      "negative ratio : 0.600000\n",
      "zero ratio : 0.400000\n"
     ]
    }
   ],
   "source": [
    "#1.positive or negative number and then finding their ratio:\n",
    "no_of_inputs=int(input('enter the no of inputs:'))\n",
    "the_inputs=list(map(int,input().split(',')))\n",
    "positive=0\n",
    "negative=0\n",
    "zero=0\n",
    "for i in the_inputs:\n",
    "    if i>0:\n",
    "        positive+=1\n",
    "    elif i<0:\n",
    "        negative+=1\n",
    "    else:\n",
    "        zero+=1\n",
    "positive=positive/no_of_inputs\n",
    "negative=negative/no_of_inputs\n",
    "zero=zero/no_of_inputs\n",
    "print('positive ratio :', f'{positive:.6f}')\n",
    "print('negative ratio :',f'{negative:.6f}')\n",
    "print('zero ratio :',f'{zero:.6f}')\n",
    "    "
   ]
  },
  {
   "cell_type": "code",
   "execution_count": 6,
   "id": "6207c0f2",
   "metadata": {},
   "outputs": [
    {
     "name": "stdout",
     "output_type": "stream",
     "text": [
      "5\n",
      "5\n",
      "10\n"
     ]
    }
   ],
   "source": [
    "a=int(input())\n",
    "b=int(input())\n",
    "c=a+b\n",
    "print(c)"
   ]
  },
  {
   "cell_type": "code",
   "execution_count": 7,
   "id": "289a65a2",
   "metadata": {},
   "outputs": [
    {
     "name": "stdout",
     "output_type": "stream",
     "text": [
      "john wick\n",
      "the name is john wick\n"
     ]
    }
   ],
   "source": [
    "a=input()\n",
    "print(f'the name is {a}')"
   ]
  },
  {
   "cell_type": "code",
   "execution_count": 8,
   "id": "99f85e8d",
   "metadata": {},
   "outputs": [],
   "source": []
  },
  {
   "cell_type": "code",
   "execution_count": 18,
   "id": "44cba1d7",
   "metadata": {},
   "outputs": [
    {
     "name": "stdout",
     "output_type": "stream",
     "text": [
      "tree height in meters :44\n",
      "height of tree is 144 feet and 0.3569599999999866 inches\n"
     ]
    }
   ],
   "source": [
    "#splitting meters into feet and inches using math modf\n",
    "import math \n",
    "a=int(input('tree height in meters :'))\n",
    "b=a*3.28084\n",
    "inches=math.modf(b)[0]\n",
    "feet=round(math.modf(b)[1])\n",
    "print(f'height of tree is {feet} feet and {inches} inches' )"
   ]
  },
  {
   "cell_type": "code",
   "execution_count": 22,
   "id": "43fed098",
   "metadata": {},
   "outputs": [
    {
     "data": {
      "text/plain": [
       "144"
      ]
     },
     "execution_count": 22,
     "metadata": {},
     "output_type": "execute_result"
    }
   ],
   "source": [
    "int(b.split('.')[0])"
   ]
  },
  {
   "cell_type": "code",
   "execution_count": 23,
   "id": "91809e35",
   "metadata": {},
   "outputs": [
    {
     "name": "stdout",
     "output_type": "stream",
     "text": [
      "20\n",
      "10\n",
      "area of triangle : 100.0\n"
     ]
    }
   ],
   "source": [
    "base=int(input())\n",
    "height=int(input())\n",
    "area=(base*height)/2\n",
    "print(f'area of triangle : {area}')"
   ]
  },
  {
   "cell_type": "code",
   "execution_count": 30,
   "id": "863aaa90",
   "metadata": {},
   "outputs": [
    {
     "name": "stdout",
     "output_type": "stream",
     "text": [
      "3 4 5\n",
      "5 6 7\n",
      "2 3 4\n"
     ]
    },
    {
     "data": {
      "text/plain": [
       "[3, 4, 5]"
      ]
     },
     "execution_count": 30,
     "metadata": {},
     "output_type": "execute_result"
    }
   ],
   "source": [
    "a=[]\n",
    "for i in range(1,4):\n",
    "    a.append(list(map(int,input().split())))\n",
    "a[0]"
   ]
  },
  {
   "cell_type": "code",
   "execution_count": null,
   "id": "d5a00e2c",
   "metadata": {},
   "outputs": [],
   "source": [
    "a=input()\n",
    "real=a.split('+')[0] or a.split('-')[0]\n",
    "imag=a.split('+')[1] or a.split('-')[1]\n",
    "print(real)\n",
    "print(imag)"
   ]
  },
  {
   "cell_type": "code",
   "execution_count": 70,
   "id": "60580474",
   "metadata": {},
   "outputs": [
    {
     "name": "stdout",
     "output_type": "stream",
     "text": [
      "4213\n",
      "4213 is not an armstrong number\n"
     ]
    }
   ],
   "source": [
    "#armstrong number:\n",
    "b=0\n",
    "a=input()\n",
    "for i in a:\n",
    "    b+=(int(i))**(len(a))\n",
    "if int(a) == b:\n",
    "    print(f'{a} is an armstrong number')\n",
    "else:\n",
    "    print(f'{a} is not an armstrong number')"
   ]
  },
  {
   "cell_type": "code",
   "execution_count": 72,
   "id": "b7c84453",
   "metadata": {},
   "outputs": [
    {
     "name": "stdout",
     "output_type": "stream",
     "text": [
      "lapibvdaOCAVOSDOUd9u0qw8\n",
      "9\n",
      "12\n"
     ]
    }
   ],
   "source": [
    "a=input()\n",
    "upper=[]\n",
    "lower=[]\n",
    "for i in a:\n",
    "    if i.isupper():\n",
    "        upper.append(i)\n",
    "    elif i.islower():\n",
    "        lower.append(i)\n",
    "print(len(upper))\n",
    "print(len(lower))"
   ]
  },
  {
   "cell_type": "code",
   "execution_count": 86,
   "id": "710c61f5",
   "metadata": {},
   "outputs": [
    {
     "name": "stdout",
     "output_type": "stream",
     "text": [
      "qwertyuiopasdfghjklzxcvbnm\n",
      "its a pamagram\n"
     ]
    },
    {
     "data": {
      "text/plain": [
       "26"
      ]
     },
     "execution_count": 86,
     "metadata": {},
     "output_type": "execute_result"
    }
   ],
   "source": [
    "a='qwertyuiopasdfghjklzxcvbnm'\n",
    "b=input()\n",
    "c=[]\n",
    "for i in b:\n",
    "    if i in a:\n",
    "        c.append(i)\n",
    "if len(set(c))==26:\n",
    "    print('its a pamagram')\n",
    "else:\n",
    "    print('its not a panagram')\n",
    "len(set(c))"
   ]
  },
  {
   "cell_type": "code",
   "execution_count": null,
   "id": "a4347220",
   "metadata": {},
   "outputs": [],
   "source": []
  },
  {
   "cell_type": "code",
   "execution_count": null,
   "id": "f5627e1e",
   "metadata": {},
   "outputs": [],
   "source": []
  },
  {
   "cell_type": "code",
   "execution_count": null,
   "id": "27bf548d",
   "metadata": {},
   "outputs": [],
   "source": []
  },
  {
   "cell_type": "code",
   "execution_count": null,
   "id": "d16a3b0b",
   "metadata": {},
   "outputs": [],
   "source": []
  },
  {
   "cell_type": "code",
   "execution_count": null,
   "id": "8114c98f",
   "metadata": {},
   "outputs": [],
   "source": []
  },
  {
   "cell_type": "code",
   "execution_count": null,
   "id": "e4465971",
   "metadata": {},
   "outputs": [],
   "source": []
  },
  {
   "cell_type": "code",
   "execution_count": null,
   "id": "e268484f",
   "metadata": {},
   "outputs": [],
   "source": []
  },
  {
   "cell_type": "code",
   "execution_count": null,
   "id": "1606fc1c",
   "metadata": {},
   "outputs": [],
   "source": []
  },
  {
   "cell_type": "code",
   "execution_count": null,
   "id": "2c6daf84",
   "metadata": {},
   "outputs": [],
   "source": []
  },
  {
   "cell_type": "code",
   "execution_count": null,
   "id": "1bfced2a",
   "metadata": {},
   "outputs": [],
   "source": []
  },
  {
   "cell_type": "code",
   "execution_count": null,
   "id": "e3c4c201",
   "metadata": {},
   "outputs": [],
   "source": []
  },
  {
   "cell_type": "code",
   "execution_count": null,
   "id": "ebcd87e8",
   "metadata": {},
   "outputs": [],
   "source": []
  },
  {
   "cell_type": "code",
   "execution_count": null,
   "id": "c5f4a791",
   "metadata": {},
   "outputs": [],
   "source": []
  },
  {
   "cell_type": "code",
   "execution_count": null,
   "id": "e2eeb047",
   "metadata": {},
   "outputs": [],
   "source": []
  },
  {
   "cell_type": "code",
   "execution_count": null,
   "id": "31cfd620",
   "metadata": {},
   "outputs": [],
   "source": []
  },
  {
   "cell_type": "code",
   "execution_count": null,
   "id": "42c7e087",
   "metadata": {},
   "outputs": [],
   "source": []
  },
  {
   "cell_type": "code",
   "execution_count": null,
   "id": "f85797b8",
   "metadata": {},
   "outputs": [],
   "source": []
  },
  {
   "cell_type": "code",
   "execution_count": null,
   "id": "5da63c23",
   "metadata": {},
   "outputs": [],
   "source": []
  }
 ],
 "metadata": {
  "kernelspec": {
   "display_name": "Python 3 (ipykernel)",
   "language": "python",
   "name": "python3"
  },
  "language_info": {
   "codemirror_mode": {
    "name": "ipython",
    "version": 3
   },
   "file_extension": ".py",
   "mimetype": "text/x-python",
   "name": "python",
   "nbconvert_exporter": "python",
   "pygments_lexer": "ipython3",
   "version": "3.9.12"
  }
 },
 "nbformat": 4,
 "nbformat_minor": 5
}
