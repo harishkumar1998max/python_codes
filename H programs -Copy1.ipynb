{
 "cells": [
  {
   "cell_type": "code",
   "execution_count": 9,
   "id": "f8cbe7fc",
   "metadata": {},
   "outputs": [
    {
     "name": "stdout",
     "output_type": "stream",
     "text": [
      "enter the number:5\n"
     ]
    },
    {
     "data": {
      "text/plain": [
       "int"
      ]
     },
     "execution_count": 9,
     "metadata": {},
     "output_type": "execute_result"
    }
   ],
   "source": [
    "a=int(input(\"enter the number:\"))\n",
    "type (a)"
   ]
  },
  {
   "cell_type": "code",
   "execution_count": 3,
   "id": "fd849ba5",
   "metadata": {},
   "outputs": [
    {
     "name": "stdout",
     "output_type": "stream",
     "text": [
      "enter the number:6\n"
     ]
    },
    {
     "data": {
      "text/plain": [
       "float"
      ]
     },
     "execution_count": 3,
     "metadata": {},
     "output_type": "execute_result"
    }
   ],
   "source": [
    "a=float(input(\"enter the number:\"))\n",
    "type (a)\n",
    "a\n"
   ]
  },
  {
   "cell_type": "code",
   "execution_count": 14,
   "id": "1baba0df",
   "metadata": {},
   "outputs": [
    {
     "name": "stdout",
     "output_type": "stream",
     "text": [
      "5 2 4 8\n"
     ]
    },
    {
     "data": {
      "text/plain": [
       "list"
      ]
     },
     "execution_count": 14,
     "metadata": {},
     "output_type": "execute_result"
    }
   ],
   "source": [
    "a=input().split()\n",
    "type(a)"
   ]
  },
  {
   "cell_type": "code",
   "execution_count": 17,
   "id": "a2085e47",
   "metadata": {},
   "outputs": [
    {
     "name": "stdout",
     "output_type": "stream",
     "text": [
      "-55.9\n"
     ]
    }
   ],
   "source": [
    "a=eval('print(55.9)')\n",
    "a"
   ]
  },
  {
   "cell_type": "code",
   "execution_count": 3,
   "id": "0b6327c4",
   "metadata": {},
   "outputs": [
    {
     "data": {
      "text/plain": [
       "31"
      ]
     },
     "execution_count": 3,
     "metadata": {},
     "output_type": "execute_result"
    }
   ],
   "source": [
    "a=int(input(\"enter a:\"))\n",
    "b=int(input(\"enter b:\"))\n",
    "c=int(input(\"enter c:\"))\n",
    "d=int(input(\"enter d:\"))\n",
    "e=int(input(\"enter e:\"))\n",
    "first=(a+b)\n",
    "second=(c*d)\n",
    "third=(first+second-e)\n",
    "third"
   ]
  },
  {
   "cell_type": "code",
   "execution_count": null,
   "id": "e7633b65",
   "metadata": {},
   "outputs": [],
   "source": [
    "\n",
    "a=input().split()\n",
    "first=(int(a[0])/int(a[1]))\n",
    "second=(int(a[2])//int(a[3]))\n",
    "third=(int(a[4])**2)\n",
    "forth=(first%second%int(a[4]))\n",
    "forth\n",
    "\n"
   ]
  },
  {
   "cell_type": "code",
   "execution_count": null,
   "id": "c987bc33",
   "metadata": {},
   "outputs": [],
   "source": [
    "a=input().split()\n",
    "first=(int(a[0])/int(a[1]))\n",
    "second=(int(a[2])//int(a[3]))\n",
    "third=(first%second%int(a[4]))\n",
    "third"
   ]
  },
  {
   "cell_type": "code",
   "execution_count": 12,
   "id": "5713316b",
   "metadata": {},
   "outputs": [
    {
     "name": "stdout",
     "output_type": "stream",
     "text": [
      "False\n"
     ]
    }
   ],
   "source": [
    "x = 1\n",
    "print (not(x > 3 or  x < 10))"
   ]
  },
  {
   "cell_type": "code",
   "execution_count": 29,
   "id": "aac2abe7",
   "metadata": {},
   "outputs": [
    {
     "name": "stdout",
     "output_type": "stream",
     "text": [
      "my name is harish and i am 24 fucking years old\n"
     ]
    }
   ],
   "source": [
    "age=24\n",
    "txt=\"my name is harish and i am {} {} years old\"\n",
    "print(txt.format(age,'fucking'))"
   ]
  },
  {
   "cell_type": "code",
   "execution_count": null,
   "id": "a508f356",
   "metadata": {},
   "outputs": [],
   "source": [
    "a=input(\"enter the string:\")\n",
    "b=input(\"enter the string:\")\n",
    "a+b"
   ]
  },
  {
   "cell_type": "code",
   "execution_count": 29,
   "id": "c48d864c",
   "metadata": {},
   "outputs": [
    {
     "data": {
      "text/plain": [
       "4"
      ]
     },
     "execution_count": 29,
     "metadata": {},
     "output_type": "execute_result"
    }
   ],
   "source": [
    "a=[1,5,6,1,8,4,2,2]\n",
    "b=[]\n",
    "for i in a:\n",
    "    if i not in b:\n",
    "        b+=i"
   ]
  },
  {
   "cell_type": "code",
   "execution_count": null,
   "id": "492fa8e8",
   "metadata": {},
   "outputs": [],
   "source": [
    "v=\"iabvjsv iufbuWwduF AOFUBWIFWfuaw\""
   ]
  },
  {
   "cell_type": "code",
   "execution_count": 36,
   "id": "14eb89a4",
   "metadata": {},
   "outputs": [
    {
     "data": {
      "text/plain": [
       "17"
      ]
     },
     "execution_count": 36,
     "metadata": {},
     "output_type": "execute_result"
    }
   ],
   "source": [
    "#no of unique elements in a string:\n",
    "v=\"iabvjsv iufbuWwduF AOFUBWIFWfuaw\"\n",
    "c=set(v)\n",
    "b=0\n",
    "for i in c:\n",
    "    if i != ' ':\n",
    "        b+=1\n",
    "b"
   ]
  },
  {
   "cell_type": "code",
   "execution_count": 44,
   "id": "87e6287e",
   "metadata": {},
   "outputs": [
    {
     "data": {
      "text/plain": [
       "18"
      ]
     },
     "execution_count": 44,
     "metadata": {},
     "output_type": "execute_result"
    }
   ],
   "source": [
    "v=\"iabvjsv iufbuWwduF AOFUBWIFWfuaw\"\n",
    "b=''\n",
    "for i in v:\n",
    "    if i not in b:\n",
    "        b+=i\n",
    "len(b)"
   ]
  },
  {
   "cell_type": "code",
   "execution_count": 98,
   "id": "c0f0c755",
   "metadata": {},
   "outputs": [
    {
     "data": {
      "text/plain": [
       "'ramuk hsirah'"
      ]
     },
     "execution_count": 98,
     "metadata": {},
     "output_type": "execute_result"
    }
   ],
   "source": [
    "#reverse string using reversed():\n",
    "g='harish kumar'\n",
    "d=''.join(reversed(g))\n",
    "d"
   ]
  },
  {
   "cell_type": "code",
   "execution_count": 43,
   "id": "2ee8bc4f",
   "metadata": {},
   "outputs": [
    {
     "data": {
      "text/plain": [
       "Counter({'i': 2,\n",
       "         'a': 2,\n",
       "         'b': 2,\n",
       "         'v': 2,\n",
       "         'j': 1,\n",
       "         's': 1,\n",
       "         ' ': 2,\n",
       "         'u': 4,\n",
       "         'f': 2,\n",
       "         'W': 3,\n",
       "         'w': 2,\n",
       "         'd': 1,\n",
       "         'F': 3,\n",
       "         'A': 1,\n",
       "         'O': 1,\n",
       "         'U': 1,\n",
       "         'B': 1,\n",
       "         'I': 1})"
      ]
     },
     "execution_count": 43,
     "metadata": {},
     "output_type": "execute_result"
    }
   ],
   "source": [
    "from collections import Counter\n",
    "v=\"iabvjsv iufbuWwduF AOFUBWIFWfuaw\"\n",
    "c=Counter(v)\n"
   ]
  },
  {
   "cell_type": "code",
   "execution_count": 1,
   "id": "097f1898",
   "metadata": {},
   "outputs": [
    {
     "ename": "SyntaxError",
     "evalue": "invalid syntax (2395887995.py, line 5)",
     "output_type": "error",
     "traceback": [
      "\u001b[1;36m  Input \u001b[1;32mIn [1]\u001b[1;36m\u001b[0m\n\u001b[1;33m    v[i] in\u001b[0m\n\u001b[1;37m            ^\u001b[0m\n\u001b[1;31mSyntaxError\u001b[0m\u001b[1;31m:\u001b[0m invalid syntax\n"
     ]
    }
   ],
   "source": [
    "#enumerate\n",
    "v=['lll','pp','r','p','r','lll']\n",
    "k=[]\n",
    "for i in len(v):\n",
    "    v[i] in "
   ]
  },
  {
   "cell_type": "code",
   "execution_count": 53,
   "id": "d0c64a8e",
   "metadata": {},
   "outputs": [
    {
     "name": "stdout",
     "output_type": "stream",
     "text": [
      "3\n",
      "5\n",
      "7\n",
      "[3, 5, 7]\n"
     ]
    }
   ],
   "source": [
    "def find_repeated_indices(lst):\n",
    "    repeated_indices = []\n",
    "    for i in range(len(lst)):\n",
    "        if lst[i] in lst[:i]:                      ##############################################enumerate alternate\n",
    "            print(i)\n",
    "            repeated_indices.append(i)\n",
    "    return repeated_indices\n",
    "# Example usage:\n",
    "my_list = [1, 2, 3, 2, 4, 3, 5, 5]\n",
    "result = find_repeated_indices(my_list)\n",
    "print(result)  # Output: [3, 5, 7]"
   ]
  },
  {
   "cell_type": "code",
   "execution_count": 59,
   "id": "6032b6dc",
   "metadata": {},
   "outputs": [],
   "source": [
    "a=[1,2,5,4,9,1,6,4]\n",
    "b=[]\n",
    "for i in a:\n",
    "    if i not in b:\n",
    "        b.append(i)"
   ]
  },
  {
   "cell_type": "code",
   "execution_count": 18,
   "id": "88beb4c3",
   "metadata": {},
   "outputs": [
    {
     "name": "stdout",
     "output_type": "stream",
     "text": [
      "the valuse of a is 9 and value of b is 7\n"
     ]
    }
   ],
   "source": [
    "# F-Strings\n",
    "a=9\n",
    "b=7\n",
    "print(f'the valuse of a is {a} and value of b is {b}')"
   ]
  },
  {
   "cell_type": "code",
   "execution_count": 19,
   "id": "3d37c2ca",
   "metadata": {},
   "outputs": [
    {
     "name": "stdout",
     "output_type": "stream",
     "text": [
      "For only 49.52 dollars!\n"
     ]
    }
   ],
   "source": [
    "txt = \"For only {price:.2f} dollars!\"\n",
    "print(txt.format(price = 49.52369))"
   ]
  },
  {
   "cell_type": "code",
   "execution_count": null,
   "id": "7b6019e8",
   "metadata": {},
   "outputs": [],
   "source": [
    "a, b, c = input(\"Enter three values: \").split()  \n",
    "print(\"Enter Your First Name: \", a)  \n",
    "print(\"Enter Your Last Name: \", b)  \n",
    "print(\"Enter Your Class: \", c)  \n",
    "print() "
   ]
  },
  {
   "cell_type": "code",
   "execution_count": null,
   "id": "13306ed9",
   "metadata": {},
   "outputs": [],
   "source": [
    "list=[1,2,3,1,2,3,5]\n",
    "b=set(list)\n",
    "a=[b]\n",
    "addition=(int(a[0])+int(a[1])+int(a[2]))\n",
    "subtraction=(int(b[-2]))\n",
    "addition\n",
    "list\n",
    "\n"
   ]
  },
  {
   "cell_type": "code",
   "execution_count": 25,
   "id": "a650b8a8",
   "metadata": {},
   "outputs": [
    {
     "name": "stdout",
     "output_type": "stream",
     "text": [
      "x=3 y=336 z=729 division=2.17 \n"
     ]
    }
   ],
   "source": [
    "# get list input,remove duplicates,add 1st 3 numbers,mul last 3 numbers,middle element expon ** \n",
    "\n",
    "lit=[1,2,7,8,8,6,6,0,3]\n",
    "a=[*set(lit)]\n",
    "x=(int(a[0])+int(a[1])+int(a[2]))\n",
    "y=(int(a[-3])*int(a[-2])*int(a[-1]))\n",
    "mm=len(a)/2\n",
    "if mm%2==0:\n",
    "    m=mm\n",
    "else:\n",
    "    m=mm+0.5\n",
    "z=(a[int(m-1)])**(a[int(m)])\n",
    "if x>y:\n",
    "    div=z/x\n",
    "else:\n",
    "    div=z/y\n",
    "division=round(div,2)\n",
    "print ( f'x={x} y={y} z={z} division={division} ')\n",
    "\n"
   ]
  },
  {
   "cell_type": "code",
   "execution_count": 336,
   "id": "7fa662ea",
   "metadata": {},
   "outputs": [
    {
     "name": "stdout",
     "output_type": "stream",
     "text": [
      "5 6 8 4 9\n",
      "6\n",
      "8\n",
      "4\n"
     ]
    }
   ],
   "source": [
    "#print even numbers from a list:\n",
    "\n",
    "a=input().split()\n",
    "for num in a:\n",
    "        if int(num) % 2==0:\n",
    "            print(num)"
   ]
  },
  {
   "cell_type": "code",
   "execution_count": 72,
   "id": "15d62dd4",
   "metadata": {},
   "outputs": [
    {
     "name": "stdout",
     "output_type": "stream",
     "text": [
      "5 4 7 5 4 8 26 55\n",
      "4\n",
      "4\n",
      "8\n",
      "26\n"
     ]
    }
   ],
   "source": [
    "#odd or even using map:\n",
    "a=list(map(int,input().split()))\n",
    "for i in a:\n",
    "    if i%2==0:\n",
    "        print(i)"
   ]
  },
  {
   "cell_type": "code",
   "execution_count": 3,
   "id": "0de15a11",
   "metadata": {},
   "outputs": [
    {
     "data": {
      "text/plain": [
       "'ramuk hsirah'"
      ]
     },
     "execution_count": 3,
     "metadata": {},
     "output_type": "execute_result"
    }
   ],
   "source": [
    "#reverse a string :\n",
    "a='harish kumar'\n",
    "c=''\n",
    "for i in a:\n",
    "    c=i+c\n",
    "c"
   ]
  },
  {
   "cell_type": "code",
   "execution_count": 74,
   "id": "7eccc925",
   "metadata": {},
   "outputs": [
    {
     "name": "stdout",
     "output_type": "stream",
     "text": [
      "enter the number of inputs:5\n",
      "5\n",
      "4\n",
      "5\n",
      "5\n",
      "5\n"
     ]
    }
   ],
   "source": [
    "##get n number of inputs from user using for loop\n",
    "a=int(input(\"enter the number of inputs:\"))\n",
    "for i in range(a):\n",
    "    input()"
   ]
  },
  {
   "cell_type": "code",
   "execution_count": 337,
   "id": "cb222239",
   "metadata": {},
   "outputs": [
    {
     "name": "stdout",
     "output_type": "stream",
     "text": [
      "enter the number of inputs:5\n",
      "4\n",
      "2\n",
      "3\n",
      "5\n",
      "8\n"
     ]
    }
   ],
   "source": [
    "#get n number of inputs from user using while loop:\n",
    "\n",
    "a=int(input(\"enter the number of inputs:\"))\n",
    "i=0\n",
    "while a>i:\n",
    "         input()\n",
    "         i+=1\n",
    "\n"
   ]
  },
  {
   "cell_type": "code",
   "execution_count": null,
   "id": "e1b77b3a",
   "metadata": {},
   "outputs": [],
   "source": [
    "#copy list A to list B:\n",
    "a=[1,2,3,4,5,6]\n",
    "b=[]\n",
    "for num in a:\n",
    "    b.append(num)  "
   ]
  },
  {
   "cell_type": "code",
   "execution_count": 87,
   "id": "35989140",
   "metadata": {},
   "outputs": [
    {
     "data": {
      "text/plain": [
       "[4, 9, 1, 2, 3]"
      ]
     },
     "execution_count": 87,
     "metadata": {},
     "output_type": "execute_result"
    }
   ],
   "source": [
    "##copy elements of list A to list B:\n",
    "a=[1,2,3,4,5,6]\n",
    "b=[4,9]\n",
    "for i in range(len(a[:3])):\n",
    "    b.append(a[i])\n",
    "b"
   ]
  },
  {
   "cell_type": "code",
   "execution_count": 30,
   "id": "c3266653",
   "metadata": {},
   "outputs": [
    {
     "name": "stdout",
     "output_type": "stream",
     "text": [
      "enter the number:6\n",
      "6 "
     ]
    }
   ],
   "source": [
    "#print even number:\n",
    "a=input('enter the number:').split()\n",
    "for num in a:\n",
    "    if int(num)==0:\n",
    "        print( -1, end=\" \")\n",
    "    elif int(num) % 2 == 0:\n",
    "            print(num, end=\" \") "
   ]
  },
  {
   "cell_type": "code",
   "execution_count": 11,
   "id": "3d2ff08c",
   "metadata": {},
   "outputs": [
    {
     "name": "stdout",
     "output_type": "stream",
     "text": [
      "enter the number0 1 2 4 0 6 3\n",
      "-1 2 4 -1 6 "
     ]
    }
   ],
   "source": [
    "# print even numbers in a list:\n",
    "bb=input('enter the number').split()\n",
    "d=0\n",
    "while (d<len(bb)):\n",
    "    if int(bb[d])==0:\n",
    "        print( -1, end=\" \")\n",
    "    elif int(bb[d])%2==0:\n",
    "        print(bb[d], end=\" \")\n",
    "    d+=1"
   ]
  },
  {
   "cell_type": "code",
   "execution_count": 342,
   "id": "f34de496",
   "metadata": {},
   "outputs": [
    {
     "name": "stdout",
     "output_type": "stream",
     "text": [
      "enter the number:1 2 3 4 5 6 7 8 9\n",
      "zero digit: []\n",
      "odd numbers: ['1', '3', '5', '7', '9']\n",
      "even numbers: ['2', '4', '6', '8']\n"
     ]
    }
   ],
   "source": [
    "#print odd even zero from a list:\n",
    "a=input('enter the number:').split()\n",
    "even=[]\n",
    "odd=[]\n",
    "zero=[]\n",
    "for num in a:\n",
    "    if int(num)==0:\n",
    "            zero.append(num)\n",
    "    elif int(num) % 2 == 0:\n",
    "            even.append(num)\n",
    "    elif int(num) % 2 == 1:\n",
    "            odd.append(num)\n",
    "     \n",
    "            \n",
    "print(\"zero digit:\",zero)\n",
    "print(\"odd numbers:\",odd)\n",
    "print(\"even numbers:\",even)"
   ]
  },
  {
   "cell_type": "code",
   "execution_count": 343,
   "id": "267ceb94",
   "metadata": {},
   "outputs": [
    {
     "name": "stdout",
     "output_type": "stream",
     "text": [
      "enter the number of inputs:5\n",
      "enter the number:1 \n",
      "enter the number:4\n",
      "enter the number:5\n",
      "enter the number:6\n",
      "enter the number:8\n"
     ]
    }
   ],
   "source": [
    "#get no.of inputs from user and store it:\n",
    "\n",
    "a=input(\"enter the number of inputs:\")\n",
    "b=0\n",
    "while (int(a)>b):\n",
    "    input(\"enter the number:\")\n",
    "    b+=1"
   ]
  },
  {
   "cell_type": "code",
   "execution_count": 35,
   "id": "8ee55381",
   "metadata": {},
   "outputs": [
    {
     "name": "stdout",
     "output_type": "stream",
     "text": [
      "enter the string:152152152\n",
      "enter value to check and split:1\n",
      "Equal parts of given string are:\n",
      "152\n",
      "152\n",
      "152\n",
      "152\n",
      "152\n",
      "152\n"
     ]
    }
   ],
   "source": [
    "#split string into equal parts:\n",
    "\n",
    "a=input(\"enter the string:\")\n",
    "new=[]\n",
    "b=input(\"enter value to check and split:\" )\n",
    "if len(b)==0:\n",
    "    print(\"no string entered\")\n",
    "else:\n",
    "        totlen=len(a)\n",
    "        sub=a.count(b)\n",
    "        len_div=int(totlen/sub)\n",
    "        for num in range(0,totlen,len_div):\n",
    "                p=a[num:num+len_div]\n",
    "                new.append(p)\n",
    "        xx=new[-1]\n",
    "        uu=new[-2]\n",
    "        lx=len(xx)\n",
    "        lu=len(uu)\n",
    "        print(\"Equal parts of given string are:\") \n",
    "        for i in new:\n",
    "            if lu==lx:\n",
    "                print(i) \n",
    "        if lu!=lx:\n",
    "            new.pop(-2)\n",
    "            new.pop(-1)\n",
    "        for i in new:\n",
    "                print(i)\n",
    "        if lu!=lx:    \n",
    "            print(uu+xx)\n"
   ]
  },
  {
   "cell_type": "code",
   "execution_count": 32,
   "id": "ba582930",
   "metadata": {},
   "outputs": [
    {
     "name": "stdout",
     "output_type": "stream",
     "text": [
      "enter the string:1 5 6 7 8 4 9 2 6 7 6 2\n",
      "enter value to check and split:6\n",
      "Equal parts of given string are:\n",
      "2 6 7 6 2\n",
      "1 5 6 7\n",
      " 8 4 9 \n"
     ]
    }
   ],
   "source": [
    "#split string into equal parts:\n",
    "\n",
    "a=input(\"enter the string:\")\n",
    "new=[]\n",
    "b=input(\"enter value to check and split:\" )\n",
    "if len(b)==0:\n",
    "    print(a)\n",
    "else:\n",
    "        totlen=len(a)\n",
    "        sub=a.count(b)\n",
    "        if sub==0:\n",
    "            print(\"no similar string found\")\n",
    "        else:    \n",
    "            len_div=int(totlen/sub)\n",
    "            for num in range(0,totlen,len_div):\n",
    "                    p=a[num:num+len_div]\n",
    "                    new.append(p)\n",
    "            \n",
    "                    if len(new)>1: \n",
    "                        xx=new[-1]\n",
    "                        uu=new[-2]\n",
    "                        lx=len(xx)\n",
    "                        lu=len(uu)\n",
    "                    else:     \n",
    "                        xx=new[-1]\n",
    "                        lx=len(xx)\n",
    "                        uu=new[0]\n",
    "                        lu=len(uu)\n",
    "                        \n",
    "            print(\"Equal parts of given string are:\")   \n",
    "            if lu!=lx:    \n",
    "                print(uu+xx)\n",
    "            if lu!=lx:\n",
    "                    if len(new)>1:\n",
    "                        new.pop(-2)\n",
    "                        new.pop(-1)\n",
    "            for i in new:\n",
    "                if lu==lx:\n",
    "                    print(i) \n",
    "                if lu!=lx:\n",
    "                    if len(new)>1:\n",
    "                        print(i)\n"
   ]
  },
  {
   "cell_type": "code",
   "execution_count": 41,
   "id": "48e18409",
   "metadata": {},
   "outputs": [
    {
     "name": "stdout",
     "output_type": "stream",
     "text": [
      "451215146151249\n",
      "['4', '5', '1', '2', '6', '9']\n"
     ]
    }
   ],
   "source": [
    "list=input()\n",
    "a=[]\n",
    "for i in list:\n",
    "    if i not in a:\n",
    "        a.append(i)\n",
    "print(a)"
   ]
  },
  {
   "cell_type": "code",
   "execution_count": 350,
   "id": "f8df3cd1",
   "metadata": {},
   "outputs": [
    {
     "name": "stdout",
     "output_type": "stream",
     "text": [
      "0.400000\n",
      "0.400000\n",
      "0.200000\n"
     ]
    }
   ],
   "source": [
    "x=int(input())\n",
    "x1=map(int,input().split())\n",
    "p=0\n",
    "z=0\n",
    "n=0\n",
    "for i in x1:\n",
    "    if i>0:\n",
    "        p+=1\n",
    "    if i<0:\n",
    "        n+=1\n",
    "    if i==0:\n",
    "        z+=1\n",
    "a=p/x\n",
    "b=n/x\n",
    "c=z/x\n",
    "print(f\"{a:.6f}\")\n",
    "print(f\"{b:.6f}\")\n",
    "print(f\"{c:.6f}\")\n",
    "        \n",
    "\n"
   ]
  },
  {
   "cell_type": "code",
   "execution_count": 351,
   "id": "333e7b72",
   "metadata": {
    "scrolled": true
   },
   "outputs": [
    {
     "name": "stdout",
     "output_type": "stream",
     "text": [
      "5 2 4 1 6 7 8\n",
      "12 17\n"
     ]
    }
   ],
   "source": [
    "#sort and add list:\n",
    " \n",
    "a=input().split()\n",
    "a.sort()\n",
    "b=int(a[0])+int(a[1])+int(a[2])+int(a[3])\n",
    "c=int(a[1])+int(a[2])+int(a[3])+int(a[4])\n",
    "print(b,c)\n"
   ]
  },
  {
   "cell_type": "code",
   "execution_count": 2,
   "id": "36439688",
   "metadata": {},
   "outputs": [
    {
     "name": "stdout",
     "output_type": "stream",
     "text": [
      "13:18:09PM\n"
     ]
    }
   ],
   "source": [
    "#12 hours into 24 hours\n",
    "a=input()\n",
    "if (a[:2] == '12') and (a[-2:]=='AM'):\n",
    "    print(\"00\" + a[2:-2])\n",
    "if (a[:2] == '12') and (a[-2:]=='PM'):\n",
    "     print(a[:-2])\n",
    "if (a[:2]<'12') and (a[-2:]=='AM'):\n",
    "    print(a[:-2])\n",
    "if (a[:2]<'12') and (a[-2:]=='PM'):   \n",
    "        aa= (int(a[:2])+12)\n",
    "        aaa=str(aa)\n",
    "        print(aaa + a[2:8])\n"
   ]
  },
  {
   "cell_type": "code",
   "execution_count": null,
   "id": "d5b2056f",
   "metadata": {},
   "outputs": [],
   "source": []
  },
  {
   "cell_type": "code",
   "execution_count": 14,
   "id": "4cb8f4c1",
   "metadata": {},
   "outputs": [
    {
     "name": "stdout",
     "output_type": "stream",
     "text": [
      "enter the number of inputs:5\n",
      "enter the number:1\n",
      "enter the number:5\n",
      "enter the number:6\n",
      "enter the number:2\n",
      "enter the number:8\n",
      "enter the number of inputs:2\n",
      "enter string:5\n",
      "enter string:5\n",
      "1\n",
      "1\n"
     ]
    }
   ],
   "source": [
    "#count of values from 2nd list in 1st list\n",
    "\n",
    "a=int(input(\"enter the number of inputs:\"))\n",
    "b=[]\n",
    "tb=[]\n",
    "td=[]\n",
    "countf=[]\n",
    "for i in range(0,a):\n",
    "    bb=input(\"enter the number:\")\n",
    "    tb.append(bb)     \n",
    "c=int(input(\"enter the number of inputs:\"))\n",
    "for i in range(0,c):\n",
    "    td = input(\"enter string:\")\n",
    "    count = 0\n",
    "    for num in tb:\n",
    "        if num == td:\n",
    "            count = count + 1\n",
    "    countf.append(count)\n",
    "for count in countf:\n",
    "    print(count)\n"
   ]
  },
  {
   "cell_type": "code",
   "execution_count": null,
   "id": "732b4500",
   "metadata": {},
   "outputs": [],
   "source": []
  },
  {
   "cell_type": "code",
   "execution_count": 17,
   "id": "bd64b6bc",
   "metadata": {},
   "outputs": [
    {
     "name": "stdout",
     "output_type": "stream",
     "text": [
      "5\n",
      "1 2 3 4 5\n",
      "1\n"
     ]
    }
   ],
   "source": [
    "# print single number in a list\n",
    "\n",
    "n=int(input())\n",
    "a=list(map(int,input().split()))\n",
    "r=a[0]\n",
    "for i in range(1,n):\n",
    "    r=r^a[i]\n",
    "print(r)\n"
   ]
  },
  {
   "cell_type": "code",
   "execution_count": 20,
   "id": "615efab9",
   "metadata": {},
   "outputs": [
    {
     "name": "stdout",
     "output_type": "stream",
     "text": [
      "1 2 1 2 4\n",
      "4\n",
      "<class 'function'>\n"
     ]
    }
   ],
   "source": [
    "# add numbers in a list, find single number in a list\n",
    "\n",
    "def operation(nums):\n",
    "    return 2*sum(set(nums))-sum(nums)\n",
    "\n",
    "\n",
    "a=list(map(int,input().split()))\n",
    "print(int(operation(a)))\n",
    "print(type(operation))"
   ]
  },
  {
   "cell_type": "code",
   "execution_count": null,
   "id": "219171b3",
   "metadata": {},
   "outputs": [],
   "source": [
    "#add  values from a matrix diagonaly like an x and abs the 2 values.\n",
    "\n",
    "n=int(input())\n",
    "d=[]\n",
    "for num in range(0,n):\n",
    "    list=[int(i) for i in input().split()]\n",
    "    d.append(list)\n",
    "d1 = 0\n",
    "d2 = 0\n",
    " \n",
    "for i in range(0, n):\n",
    "    d1 = d1 + d[i][i]\n",
    "    d2 = d2 + d[i][n - i - 1]\n",
    "three=abs(d1-d2)    \n",
    "print(three)\n",
    "\n",
    "\n",
    "\n",
    "\n"
   ]
  },
  {
   "cell_type": "code",
   "execution_count": 97,
   "id": "a27447c9",
   "metadata": {},
   "outputs": [
    {
     "data": {
      "text/plain": [
       "'ramuk hsirah'"
      ]
     },
     "execution_count": 97,
     "metadata": {},
     "output_type": "execute_result"
    }
   ],
   "source": [
    "\n"
   ]
  },
  {
   "cell_type": "code",
   "execution_count": null,
   "id": "d70702d3",
   "metadata": {},
   "outputs": [],
   "source": []
  },
  {
   "cell_type": "code",
   "execution_count": 91,
   "id": "faa7f3e2",
   "metadata": {},
   "outputs": [
    {
     "name": "stdout",
     "output_type": "stream",
     "text": [
      "5\n",
      "5 2 5 4 6\n",
      "0 0 1 0 1 2 1 0 0 0 0 0 0 0 0 0 0 0 0 0 0 0 0 0 0 0 0 0 0 0 0 0 0 0 0 0 0 0 0 0 0 0 0 0 0 0 0 0 0 0 0 0 0 0 0 0 0 0 0 0 0 0 0 0 0 0 0 0 0 0 0 0 0 0 0 0 0 0 0 0 0 0 0 0 0 0 0 0 0 0 0 0 0 0 0 0 0 0 0 0\n"
     ]
    },
    {
     "data": {
      "text/plain": [
       "[0,\n",
       " 0,\n",
       " 1,\n",
       " 0,\n",
       " 1,\n",
       " 2,\n",
       " 1,\n",
       " 0,\n",
       " 0,\n",
       " 0,\n",
       " 0,\n",
       " 0,\n",
       " 0,\n",
       " 0,\n",
       " 0,\n",
       " 0,\n",
       " 0,\n",
       " 0,\n",
       " 0,\n",
       " 0,\n",
       " 0,\n",
       " 0,\n",
       " 0,\n",
       " 0,\n",
       " 0,\n",
       " 0,\n",
       " 0,\n",
       " 0,\n",
       " 0,\n",
       " 0,\n",
       " 0,\n",
       " 0,\n",
       " 0,\n",
       " 0,\n",
       " 0,\n",
       " 0,\n",
       " 0,\n",
       " 0,\n",
       " 0,\n",
       " 0,\n",
       " 0,\n",
       " 0,\n",
       " 0,\n",
       " 0,\n",
       " 0,\n",
       " 0,\n",
       " 0,\n",
       " 0,\n",
       " 0,\n",
       " 0,\n",
       " 0,\n",
       " 0,\n",
       " 0,\n",
       " 0,\n",
       " 0,\n",
       " 0,\n",
       " 0,\n",
       " 0,\n",
       " 0,\n",
       " 0,\n",
       " 0,\n",
       " 0,\n",
       " 0,\n",
       " 0,\n",
       " 0,\n",
       " 0,\n",
       " 0,\n",
       " 0,\n",
       " 0,\n",
       " 0,\n",
       " 0,\n",
       " 0,\n",
       " 0,\n",
       " 0,\n",
       " 0,\n",
       " 0,\n",
       " 0,\n",
       " 0,\n",
       " 0,\n",
       " 0,\n",
       " 0,\n",
       " 0,\n",
       " 0,\n",
       " 0,\n",
       " 0,\n",
       " 0,\n",
       " 0,\n",
       " 0,\n",
       " 0,\n",
       " 0,\n",
       " 0,\n",
       " 0,\n",
       " 0,\n",
       " 0,\n",
       " 0,\n",
       " 0,\n",
       " 0,\n",
       " 0,\n",
       " 0,\n",
       " 0]"
      ]
     },
     "execution_count": 91,
     "metadata": {},
     "output_type": "execute_result"
    }
   ],
   "source": [
    "#print 100 index value(0) and count the numbers repeat in the given input \n",
    "\n",
    "N = int(input())\n",
    "\n",
    "a = list(map(int, input().split()))\n",
    "\n",
    "freq = [0]*100\n",
    "\n",
    "for i in a:\n",
    "    freq[i] = freq[i]+1\n",
    "\n",
    "\n",
    "print (' '.join(map(str, freq)))\n",
    "freq"
   ]
  },
  {
   "cell_type": "code",
   "execution_count": null,
   "id": "81dc50e7",
   "metadata": {},
   "outputs": [],
   "source": [
    "#given string is pangram or not:\n",
    "\n",
    "bb=input(\"enter the string:\")\n",
    "a=bb.lower()\n",
    "b=set(a)\n",
    "c=[]\n",
    "for i in b:\n",
    "    if i.isalpha()==True:\n",
    "        c.append(i)       \n",
    "if len(c)==26:\n",
    "    print(\"pangram\")\n",
    "else:\n",
    "    print(\"not pangram\")"
   ]
  },
  {
   "cell_type": "code",
   "execution_count": null,
   "id": "42c7432b",
   "metadata": {},
   "outputs": [],
   "source": [
    "#Permuting Two Arrays()\n",
    "\n",
    "q=int(input())\n",
    "ans=[]\n",
    "count=0\n",
    "nn=[]\n",
    "for i in range(0,q):\n",
    "    n,k=list(map(int,input().split()))\n",
    "    a=list(map(int,input().split()))\n",
    "    b=list(map(int,input().split()))\n",
    "    l=len(a)\n",
    "    a.sort()\n",
    "    b.sort(reverse=True)\n",
    "    for h in range(0,l):\n",
    "        if a[h]+b[h] >= k:\n",
    "            count+=1               \n",
    "    ans.append(count)   \n",
    "    count=0\n",
    "    nn.append(n)\n",
    "for m in range(0,q):\n",
    "    if ans[m]==nn[m]:\n",
    "           print(\"YES\")\n",
    "    else:\n",
    "           print(\"NO\")\n",
    "    \n",
    "    \n",
    "    \n",
    "    \n",
    "    \n"
   ]
  },
  {
   "cell_type": "code",
   "execution_count": null,
   "id": "7692a895",
   "metadata": {},
   "outputs": [],
   "source": [
    "#Subarray Division (chocolate sum)\n",
    "\n",
    "n = int(input())\n",
    "s = list(map(int, input().split()))\n",
    "d, m = map(int, input().split())\n",
    "\n",
    "ans = 0\n",
    "for i in range(n-m+1):\n",
    "    if (sum(s[i:i+m]) == d):\n",
    "        ans += 1\n",
    "        \n",
    "print(ans)\n"
   ]
  },
  {
   "cell_type": "code",
   "execution_count": 207,
   "id": "44051736",
   "metadata": {},
   "outputs": [
    {
     "name": "stdout",
     "output_type": "stream",
     "text": [
      "5\n",
      "6\n",
      "3\n"
     ]
    }
   ],
   "source": [
    "#XOR operation by adding numbers:\n",
    "\n",
    "a=[int(x) for x in input().split()]\n",
    "b=[int(x) for x in input().split()]\n",
    "ans=[]\n",
    "for i in range(0,len(a)):\n",
    "         c= a[i]^b[i]\n",
    "         ans.append(c)\n",
    "y=ans[0]\n",
    "print(y)"
   ]
  },
  {
   "cell_type": "code",
   "execution_count": 206,
   "id": "4e5a7ed3",
   "metadata": {},
   "outputs": [
    {
     "name": "stdout",
     "output_type": "stream",
     "text": [
      "5 \n",
      "6 \n",
      "0\n"
     ]
    }
   ],
   "source": [
    "#XOR operation by adding bits:\n",
    "\n",
    "def strings_xor(s, t):\n",
    "    res = \"\"\n",
    "    for i in range(len(s)):\n",
    "        if s[i] == t[i]:\n",
    "            res = '0'\n",
    "        else:\n",
    "            res = '1'\n",
    "\n",
    "    return res\n",
    "    print(res)\n",
    "s = input()\n",
    "t = input()\n",
    "print(strings_xor(s, t))\n",
    "\n",
    "\n"
   ]
  },
  {
   "cell_type": "code",
   "execution_count": 38,
   "id": "cf32c9e2",
   "metadata": {},
   "outputs": [
    {
     "name": "stdout",
     "output_type": "stream",
     "text": [
      "5\n",
      "*\n",
      "**\n",
      "***\n",
      "****\n",
      "*****\n"
     ]
    }
   ],
   "source": [
    "#pattern right angle:\n",
    "a=int(input())\n",
    "b=str(a)\n",
    "for i in range(1,a+1):\n",
    "    d=i*(\"*\")\n",
    "    print(d)\n",
    "    \n"
   ]
  },
  {
   "cell_type": "code",
   "execution_count": 37,
   "id": "127fbbf4",
   "metadata": {},
   "outputs": [
    {
     "name": "stdout",
     "output_type": "stream",
     "text": [
      "5\n",
      "*****\n",
      "****\n",
      "***\n",
      "**\n",
      "*\n"
     ]
    }
   ],
   "source": [
    "#pattern upside down right angle:\n",
    "a=int(input())\n",
    "b=str(a)\n",
    "k=1\n",
    "c=[]\n",
    "for i in range(1,a+1):\n",
    "    d=i*(\"*\")\n",
    "    c.append(d)\n",
    "for n in range(a):\n",
    "    print(str(c[a-k]))\n",
    "    k+=1\n",
    "    \n",
    "    "
   ]
  },
  {
   "cell_type": "code",
   "execution_count": 36,
   "id": "517bf463",
   "metadata": {},
   "outputs": [
    {
     "name": "stdout",
     "output_type": "stream",
     "text": [
      "5\n",
      " *****\n",
      "  ****\n",
      "   ***\n",
      "    **\n",
      "     *\n"
     ]
    }
   ],
   "source": [
    "# pattern inverse upside down right angle\n",
    "a=int(input())\n",
    "b=str(a)\n",
    "k=1\n",
    "c=[]\n",
    "j=\"\"\n",
    "for i in range(1,a+1):\n",
    "    d=i*(\"*\")\n",
    "    c.append(d)\n",
    "for n in range(a):\n",
    "    print(j,str(c[(a)-k]))\n",
    "    k+=1\n",
    "    j=j+\" \"\n",
    "    \n",
    "    "
   ]
  },
  {
   "cell_type": "code",
   "execution_count": 54,
   "id": "c315703b",
   "metadata": {},
   "outputs": [
    {
     "name": "stdout",
     "output_type": "stream",
     "text": [
      "5\n",
      "     \n",
      "    *\n",
      "   **\n",
      "  ***\n",
      " ****\n",
      "*****\n"
     ]
    }
   ],
   "source": [
    "#pattern left angle\n",
    "a=int(input())\n",
    "b=0\n",
    "while(b<=a):\n",
    "    print(\" \" *(a-b)+\"*\" * b)\n",
    "    b+=1\n",
    "    \n",
    "\n",
    "    "
   ]
  },
  {
   "cell_type": "code",
   "execution_count": 35,
   "id": "0acdb06e",
   "metadata": {},
   "outputs": [
    {
     "name": "stdout",
     "output_type": "stream",
     "text": [
      "7\n",
      "                  *  \n",
      "               *  *  *  \n",
      "            *  *  *  *  *  \n",
      "         *  *  *  *  *  *  *  \n",
      "      *  *  *  *  *  *  *  *  *  \n",
      "   *  *  *  *  *  *  *  *  *  *  *  \n",
      "*  *  *  *  *  *  *  *  *  *  *  *  *  \n"
     ]
    }
   ],
   "source": [
    "#pattern triangle with odd stars\n",
    "a= int(input())\n",
    "b = 0\n",
    "\n",
    "for i in range(1, a+1):\n",
    "    for x in range(1, (a-i)+1):\n",
    "        print(end=\"   \")\n",
    "   \n",
    "    while b!=(2*i-1):      \n",
    "        print(\"* \", end=\" \")\n",
    "        b += 1\n",
    "    b = 0\n",
    "    print()"
   ]
  },
  {
   "cell_type": "code",
   "execution_count": 68,
   "id": "377f8377",
   "metadata": {
    "scrolled": true
   },
   "outputs": [
    {
     "name": "stdout",
     "output_type": "stream",
     "text": [
      "6\n",
      "* * * * * * * * * \n",
      "  * * * * * * * \n",
      "    * * * * * \n",
      "      * * * \n",
      "        * \n"
     ]
    }
   ],
   "source": [
    "#pattern inverse triangle with odd numbers\n",
    "rows = int(input())\n",
    "\n",
    "for i in range(rows, 1, -1):\n",
    "    for space in range(0, rows-i):\n",
    "        print(\"  \", end=\"\")\n",
    "    for j in range(i, 2*i-1):\n",
    "        print(\"* \", end=\"\")\n",
    "    for j in range(1, i-1):\n",
    "        print(\"* \", end=\"\")\n",
    "    print()"
   ]
  },
  {
   "cell_type": "code",
   "execution_count": 43,
   "id": "072532fa",
   "metadata": {},
   "outputs": [
    {
     "name": "stdout",
     "output_type": "stream",
     "text": [
      "5\n",
      "            *  *  *  *  *  \n",
      "         *  *  *  *  *  \n",
      "      *  *  *  *  *  \n",
      "   *  *  *  *  *  \n",
      "*  *  *  *  *  \n"
     ]
    }
   ],
   "source": [
    "#pattern cross diamond\n",
    "a= int(input())\n",
    "b = 0\n",
    "\n",
    "for i in range(1, a+1):\n",
    "    for x in range(1, (a-i)+1):\n",
    "        print(end=\"   \")\n",
    "   \n",
    "    while a>b:      \n",
    "        print(\"* \", end=\" \")\n",
    "        b += 1\n",
    "    b = 0\n",
    "    print()"
   ]
  },
  {
   "cell_type": "code",
   "execution_count": 53,
   "id": "657e0503",
   "metadata": {},
   "outputs": [
    {
     "name": "stdout",
     "output_type": "stream",
     "text": [
      "5\n",
      "*  *  *  *  *  \n",
      "   *  *  *  *  *  \n",
      "      *  *  *  *  *  \n",
      "         *  *  *  *  *  \n",
      "            *  *  *  *  *  \n"
     ]
    }
   ],
   "source": [
    "#pattern cross diamond\n",
    "\n",
    "a= int(input())\n",
    "b = 0\n",
    "\n",
    "for i in range(1, a+1):\n",
    "    for x in range(1, i):\n",
    "        print(end=\"   \")\n",
    "    while a>b:      \n",
    "        print(\"* \", end=\" \")\n",
    "        b += 1\n",
    "    b = 0\n",
    "    print()"
   ]
  },
  {
   "cell_type": "code",
   "execution_count": 83,
   "id": "56879f26",
   "metadata": {},
   "outputs": [
    {
     "name": "stdout",
     "output_type": "stream",
     "text": [
      "4\n",
      "   *   \n",
      "  * *   \n",
      " * * *   \n",
      "* * * *   \n"
     ]
    }
   ],
   "source": [
    "#pattern triangle\n",
    "a= int(input())\n",
    "b = 0\n",
    "k=\"* \"\n",
    "for i in range(1, a+1):\n",
    "    for x in range(1, (a-i)+1):\n",
    "        print(end=\" \")\n",
    "   \n",
    "    if i<=5:      \n",
    "        print(k*i, end=\"  \")\n",
    "    print()   "
   ]
  },
  {
   "cell_type": "code",
   "execution_count": 82,
   "id": "d3ef5650",
   "metadata": {},
   "outputs": [
    {
     "name": "stdout",
     "output_type": "stream",
     "text": [
      "9\n",
      "        *   \n",
      "       \n",
      "      * * *   \n",
      "     \n",
      "    * * * * *   \n",
      "   \n",
      "  * * * * * * *   \n",
      " \n",
      "* * * * * * * * *   \n"
     ]
    }
   ],
   "source": [
    "#pattern triangle with odd numbers\n",
    "\n",
    "a= int(input())\n",
    "b = 0\n",
    "z=\"* \"\n",
    "for i in range(1, a+1):\n",
    "    for x in range(1, (a-i)+1):\n",
    "        print(end=\" \")\n",
    "   \n",
    "    if i%2==1:\n",
    "        print((z*i)+(z*b),end=\"  \")\n",
    "        b+=1\n",
    "    b=0\n",
    "    print()"
   ]
  },
  {
   "cell_type": "code",
   "execution_count": 210,
   "id": "3a431188",
   "metadata": {},
   "outputs": [
    {
     "name": "stdout",
     "output_type": "stream",
     "text": [
      "5\n",
      "           * \n",
      "         * * * \n",
      "       * * * * * \n",
      "     * * * * * * * \n",
      "   * * * * * * * * * \n",
      "     * * * * * * * \n",
      "       * * * * * \n",
      "         * * * \n",
      "           * \n"
     ]
    }
   ],
   "source": [
    "#pattern diamond with odd numbers\n",
    "\n",
    "a = int(input())\n",
    "p=\"  \"\n",
    "k=\"* \"\n",
    "for x in range(a):\n",
    "    print(p * (a - x), k * (2*x + 1))\n",
    "for x in range(a-2 , -1, -1):\n",
    "    print(p * (a - x),k * (2*x + 1))\n"
   ]
  },
  {
   "cell_type": "code",
   "execution_count": 193,
   "id": "d3566f6a",
   "metadata": {},
   "outputs": [
    {
     "name": "stdout",
     "output_type": "stream",
     "text": [
      "5\n",
      "           \n",
      "         * \n",
      "       * * \n",
      "     * * * \n",
      "   * * * * \n",
      " * * * * * \n",
      " * * * * * \n",
      "   * * * * \n",
      "     * * * \n",
      "       * * \n",
      "         * \n",
      "           \n"
     ]
    }
   ],
   "source": [
    "#pattern right half of diamond:\n",
    "\n",
    "a = int(input())\n",
    "p=\"  \"\n",
    "k=\"* \"\n",
    "for x in range(a+1):\n",
    "    print(p * (a - x), k * (x))\n",
    "for x in range(a , -1, -1):\n",
    "    print(p * (a - x),k * (x))"
   ]
  },
  {
   "cell_type": "code",
   "execution_count": 199,
   "id": "1e1668b4",
   "metadata": {},
   "outputs": [
    {
     "name": "stdout",
     "output_type": "stream",
     "text": [
      "5\n",
      "           \n",
      "*          \n",
      "* *        \n",
      "* * *      \n",
      "* * * *    \n",
      "* * * * *  \n",
      "* * * * *  \n",
      "* * * *    \n",
      "* * *      \n",
      "* *        \n",
      "*          \n",
      "           \n"
     ]
    }
   ],
   "source": [
    "#pattern right half of diamond with odd numbers:\n",
    "\n",
    "a = int(input())\n",
    "p=\"  \"\n",
    "k=\"* \"\n",
    "for x in range(a+1):\n",
    "    print( k * (x),p * (a - x))\n",
    "for x in range(a , -1, -1):\n",
    "    print(k * (x),p * (a - x))"
   ]
  },
  {
   "cell_type": "code",
   "execution_count": 211,
   "id": "1d2675a1",
   "metadata": {
    "scrolled": true
   },
   "outputs": [
    {
     "name": "stdout",
     "output_type": "stream",
     "text": [
      "5\n",
      "           \n",
      "         *   \n",
      "       *   *   \n",
      "     *   *   *   \n",
      "   *   *   *   *   \n",
      " *   *   *   *   *   \n",
      "   *   *   *   *   \n",
      "     *   *   *   \n",
      "       *   *   \n",
      "         *   \n",
      "           \n"
     ]
    }
   ],
   "source": [
    "#pattern diamond:\n",
    "\n",
    "a = int(input())\n",
    "p=\"  \"\n",
    "k=\"*   \"\n",
    "for x in range(a):\n",
    "    print(p * (a - x), k * (x))\n",
    "for x in range(a , -1, -1):\n",
    "    print(p * (a - x),k * (x))"
   ]
  },
  {
   "cell_type": "code",
   "execution_count": 263,
   "id": "2a2eaae5",
   "metadata": {},
   "outputs": [
    {
     "name": "stdout",
     "output_type": "stream",
     "text": [
      "5\n",
      "           * \n",
      "         * * * \n",
      "       * * * * * \n",
      "     * * * * * * * \n",
      "   * * * * * * * * * \n",
      "   * * * * * * * * * \n",
      "     * * * * * * * \n",
      "       * * * * * \n",
      "         * * * \n",
      "           * \n",
      "[1, 2, 3, 4, 5]\n"
     ]
    }
   ],
   "source": [
    "\n",
    "a = int(input())\n",
    "p=\"  \"\n",
    "k=\"* \"\n",
    "b = 0\n",
    "z=[]\n",
    "aa=[]\n",
    "for x in range(a):\n",
    "    z.append(x+1)\n",
    "    if x%2!=0:\n",
    "        aa[0]==\n",
    "        \n",
    "\n",
    "for x in range(a):\n",
    "        print(p * (a - x), k * (2*x + 1))\n",
    "        b+=1\n",
    "        \n",
    "for x in range(a-1 , -1, -1):\n",
    "    print(p * (a - x),k * (2*x + 1))\n",
    "print(z)"
   ]
  },
  {
   "cell_type": "code",
   "execution_count": 284,
   "id": "e536ead7",
   "metadata": {},
   "outputs": [
    {
     "name": "stdout",
     "output_type": "stream",
     "text": [
      "9\n",
      "         * \n",
      "       * * * \n",
      "     * * * * * \n",
      "   * * * * * * * \n",
      " * * * * * * * * * \n",
      "   * * * * * * * \n",
      "     * * * * * \n",
      "       * * * \n",
      "         * \n"
     ]
    }
   ],
   "source": [
    "#diamond with odd number:\n",
    "\n",
    "a=int(input())\n",
    "b=a//2+1\n",
    "p=\"  \"\n",
    "k=\"* \"\n",
    "for i,j in zip(range (1,b+1),range(1,a+1,2)):\n",
    "    print(p*(b-i),k*j)\n",
    "for i,j in zip(range(1,b+1),range(a-2,-1,-2)):\n",
    "    print(p*i,k*j)\n",
    "    \n"
   ]
  },
  {
   "cell_type": "code",
   "execution_count": 335,
   "id": "e20b3d1b",
   "metadata": {},
   "outputs": [
    {
     "name": "stdout",
     "output_type": "stream",
     "text": [
      "15\n",
      "1\n",
      "2\n",
      "Fizz\n",
      "4\n",
      "Buzz\n",
      "Fizz\n",
      "7\n",
      "8\n",
      "Fizz\n",
      "Buzz\n",
      "11\n",
      "Fizz\n",
      "13\n",
      "14\n",
      "FizzBuzz\n"
     ]
    }
   ],
   "source": [
    "#buzzfizz problem:\n",
    "\n",
    "def fizzBuzz(n):\n",
    "    for i in range (1,n+1):\n",
    "        if i%3==0 and i%5==0:\n",
    "            print(\"FizzBuzz\")\n",
    "            continue\n",
    "        elif i%3==0 and i%5!=0:\n",
    "            print(\"Fizz\")\n",
    "            continue\n",
    "        elif i%5==0 and i%3!=0:\n",
    "            print(\"Buzz\")\n",
    "            continue\n",
    "        else:\n",
    "            print(i)\n",
    "            continue\n",
    "if __name__ == '__main__':\n",
    "    n = int(input())\n",
    "\n",
    "    fizzBuzz(n)\n"
   ]
  },
  {
   "cell_type": "code",
   "execution_count": 25,
   "id": "187f6942",
   "metadata": {},
   "outputs": [
    {
     "name": "stdout",
     "output_type": "stream",
     "text": [
      "5\n",
      "2\n",
      "3\n",
      "[1, 2, 3, 4, 5]\n"
     ]
    }
   ],
   "source": [
    "#binary search\n",
    "\n",
    "n=int(input())\n",
    "arr=[]\n",
    "j=1\n",
    "k=int(input())\n",
    "if n>0:\n",
    "    for i in range (1,n+1):\n",
    "        arr.append(j)\n",
    "        j+=1\n",
    "print(arr[k])\n",
    "print(arr)"
   ]
  },
  {
   "cell_type": "code",
   "execution_count": null,
   "id": "78c26d36",
   "metadata": {},
   "outputs": [],
   "source": [
    "\"\"\" 3 4 5 6   a b b a\n",
    "    5 6 7 8   c d d c\n",
    "    5 3 4 5   c d d c\n",
    "    8 9 8 7   a b b a\n",
    "    \n",
    "    matrix big number add\n",
    "\"\"\"\n",
    "\n",
    "q = int(input().strip())\n",
    "\n",
    "for q_itr in range(q):\n",
    "    n = int(input().strip())\n",
    "matrix = []\n",
    "for _ in range(2 * n):\n",
    "    matrix.append(list(map(int, input().rstrip().split())))\n",
    "s=0\n",
    "n=len(matrix)\n",
    "for i in range(n//2):\n",
    "    for j in range(n//2):\n",
    "        s+=max(matrix[i][j],matrix[i][n-j-1],matrix[n-i-1][j],matrix[n-i-1][n-j-1])\n",
    "print(s)"
   ]
  },
  {
   "cell_type": "code",
   "execution_count": null,
   "id": "cd338dd9",
   "metadata": {},
   "outputs": [],
   "source": [
    "#sort list and find middle number:\n",
    "\n",
    "n = int(input().strip())\n",
    "\n",
    "arr = list(map(int, input().rstrip().split()))\n",
    "\n",
    "arr.sort()\n",
    "larr=len(arr)/2\n",
    "if larr/2!=0:\n",
    "    i=int(larr)+int(0.5)\n",
    "    j=int(arr[i])\n",
    "else:\n",
    "    i=larr\n",
    "    j=int(arr[i])\n",
    " \n",
    "print(j)\n",
    "    "
   ]
  },
  {
   "cell_type": "code",
   "execution_count": 1,
   "id": "38ab40b2",
   "metadata": {},
   "outputs": [
    {
     "name": "stdout",
     "output_type": "stream",
     "text": [
      "1 \n",
      "2\n",
      "3\n",
      "4\n",
      "[[0, 0, 0], [0, 0, 1], [0, 0, 2], [0, 0, 3], [0, 1, 0], [0, 1, 1], [0, 1, 2], [0, 2, 0], [0, 2, 1], [0, 2, 3], [1, 0, 0], [1, 0, 1], [1, 0, 2], [1, 1, 0], [1, 1, 1], [1, 1, 3], [1, 2, 0], [1, 2, 2], [1, 2, 3]]\n"
     ]
    }
   ],
   "source": [
    "# list comprehension:\n",
    "\n",
    "x = int(input())\n",
    "y = int(input())\n",
    "z = int(input())\n",
    "n = int(input())\n",
    "    \n",
    "new=[[i,j,k] for i in range(0,x+1) for j in range(0,y+1) for k in range(0,z+1) if i+j+k!=n]\n",
    "print(new)"
   ]
  },
  {
   "cell_type": "code",
   "execution_count": 7,
   "id": "6380e473",
   "metadata": {},
   "outputs": [
    {
     "name": "stdout",
     "output_type": "stream",
     "text": [
      "5\n",
      "1 2 3 4 5 6\n",
      "5\n"
     ]
    }
   ],
   "source": [
    "#2nd largest number in list:\n",
    "\n",
    "n = int(input())\n",
    "arr =list( map(int, input().split()))\n",
    "arr.sort()\n",
    "print(arr[(arr.index(max(arr)))-1])\n"
   ]
  },
  {
   "cell_type": "code",
   "execution_count": 15,
   "id": "6a41247a",
   "metadata": {},
   "outputs": [
    {
     "name": "stdout",
     "output_type": "stream",
     "text": [
      "7\n",
      "1 5 2 6 1 5 1\n",
      "2\n"
     ]
    }
   ],
   "source": [
    "#sales by match,no. of sets in a list:\n",
    " \n",
    "from collections import Counter\n",
    "\n",
    "n = int(input())\n",
    "c = Counter(map(int, input().split()))\n",
    "ans = 0\n",
    "\n",
    "for x in c:\n",
    "    ans += c[x] // 2\n",
    "    \n",
    "print(ans)"
   ]
  },
  {
   "cell_type": "code",
   "execution_count": null,
   "id": "e36b5a0e",
   "metadata": {},
   "outputs": [],
   "source": [
    "#finding the percentage,dictinary,sum 3 values and add 2 decimal points\n",
    "\n",
    "n = int(input())\n",
    "student_marks = {}\n",
    "for _ in range(n):\n",
    "    name, *line = input().split()\n",
    "    scores = list(map(float, line))\n",
    "    student_marks[name] = scores\n",
    "query_name = input()\n",
    "marks=student_marks[query_name]\n",
    "\n",
    "#format(values,'.2f')\n",
    "\n",
    "print(format(sum(marks)/3,'.2f'))"
   ]
  },
  {
   "cell_type": "code",
   "execution_count": 1,
   "id": "b5fdea33",
   "metadata": {},
   "outputs": [
    {
     "name": "stdout",
     "output_type": "stream",
     "text": [
      "100.092,0910@0390#987\n",
      "100\n",
      "092\n",
      "0910\n",
      "0390\n",
      "987\n"
     ]
    }
   ],
   "source": [
    "#re.split() , split numbers which has ,.!@# in them:\n",
    "\n",
    "regex_pattern = r\"[,.!@#+]\" # Do not delete 'r'.\n",
    "\n",
    "import re\n",
    "print(\"\\n\".join(re.split(regex_pattern, input())))"
   ]
  },
  {
   "cell_type": "code",
   "execution_count": null,
   "id": "223a5fc5",
   "metadata": {},
   "outputs": [],
   "source": [
    "\"\"\"\n",
    "Sample Input 0\n",
    "\n",
    "12\n",
    "insert 0 5\n",
    "insert 1 10\n",
    "insert 0 6\n",
    "print\n",
    "remove 6\n",
    "append 9\n",
    "append 1\n",
    "sort\n",
    "print\n",
    "pop\n",
    "reverse\n",
    "print\n",
    "\"\"\"\n",
    "\n",
    "if __name__ == '__main__':\n",
    "    N = int(input())\n",
    "    x=[]\n",
    "    for i in range (N):\n",
    "        d=input().split()\n",
    "        if d[0] == 'insert':\n",
    "            x.insert(int(d[1]),int(d[2]))\n",
    "        elif d[0]=='print':\n",
    "            print(x)\n",
    "        elif d[0]=='remove':\n",
    "            x.remove(int(d[1]))\n",
    "        elif d[0]=='append':\n",
    "            x.append(int(d[1]))\n",
    "        elif d[0]=='sort':\n",
    "            x.sort()\n",
    "        elif d[0]=='pop':\n",
    "            x.pop()\n",
    "        elif d[0]=='reverse':\n",
    "            x.reverse()\n",
    "        "
   ]
  },
  {
   "cell_type": "code",
   "execution_count": null,
   "id": "d4cfe6f2",
   "metadata": {},
   "outputs": [],
   "source": [
    "m=[]\n",
    "ss=[]\n",
    "for _ in range(int(input())):\n",
    "    name = input()\n",
    "    score = float(input())\n",
    "    m+=[[name,score]]\n",
    "    ss+=[score]\n",
    "x=sorted(set(ss))[1] ##########\n",
    "for n,s in (sorted(m)):\n",
    "    if s==x:\n",
    "    print(n)"
   ]
  },
  {
   "cell_type": "code",
   "execution_count": null,
   "id": "92589bb4",
   "metadata": {},
   "outputs": [],
   "source": [
    "# maria game heighest score and lowest score:\n",
    "input()\n",
    "a = list(map(int, input().split()))\n",
    "m = M = a[0]\n",
    "x = y = 0\n",
    "for i in a[1:]:\n",
    "    if i > M:\n",
    "        M = i\n",
    "        x += 1\n",
    "    elif i < m:\n",
    "        m = i\n",
    "        y += 1\n",
    "print(x, y)"
   ]
  },
  {
   "cell_type": "code",
   "execution_count": null,
   "id": "db76ca51",
   "metadata": {},
   "outputs": [],
   "source": [
    "#Count pairs in array whose sum is divisible by K:\n",
    "\n",
    "ar=list(map(int,input().split()))\n",
    "k=int(input())\n",
    "count=0\n",
    "for i in range(0,len(ar)):\n",
    "    for j in range(i+1,len(ar)):\n",
    "        if (ar[i]+ar[j])%k==0:\n",
    "            count+=1\n",
    "print(count)"
   ]
  },
  {
   "cell_type": "code",
   "execution_count": null,
   "id": "98ca5b13",
   "metadata": {},
   "outputs": [],
   "source": [
    "#check list b in a and print out the count:\n",
    "\n",
    "no=int(input())\n",
    "a1=[]\n",
    "b1=[]\n",
    "for i in range(0,no):\n",
    "    a1.append(input())\n",
    "no1=int(input())\n",
    "for j in range(0,no1):\n",
    "    b1.append(input())\n",
    "t=[]\n",
    "for check in b1:\n",
    "    p=a1.count(check)\n",
    "    t.append(p)\n",
    "for f in t:\n",
    "    print(f)"
   ]
  },
  {
   "cell_type": "code",
   "execution_count": null,
   "id": "1e34aa97",
   "metadata": {},
   "outputs": [],
   "source": [
    "#lonley integer in a list:\n",
    "\n",
    "b=input()\n",
    "a=list(map(int,input().split()))\n",
    "r=(2*sum(set(a)))-sum(a)\n",
    "print(r)"
   ]
  },
  {
   "cell_type": "code",
   "execution_count": null,
   "id": "af208a86",
   "metadata": {},
   "outputs": [],
   "source": [
    "#grading students by rounding marks to divisible by 5:\n",
    "a=int(input())\n",
    "b=[]\n",
    "for i in range(a):\n",
    "    temp=int(input())\n",
    "    b.append(temp)\n",
    "for j in b:\n",
    "    if j >= 38:\n",
    "        if j % 5 > 2:\n",
    "            while j % 5 != 0: j += 1\n",
    "    print(j)"
   ]
  },
  {
   "cell_type": "code",
   "execution_count": null,
   "id": "572901ef",
   "metadata": {},
   "outputs": [
    {
     "name": "stdout",
     "output_type": "stream",
     "text": [
      "3\n",
      "123\n",
      "4294967172\n"
     ]
    }
   ],
   "source": [
    "#flipping bits:\n",
    "\n",
    "T =int(input())\n",
    "for _ in range(T) :\n",
    "    N = int(input())\n",
    "    print(0xffffffff & ~N)"
   ]
  },
  {
   "cell_type": "code",
   "execution_count": 16,
   "id": "801da848",
   "metadata": {},
   "outputs": [
    {
     "name": "stdout",
     "output_type": "stream",
     "text": [
      "3\n",
      "8 9 6\n",
      "7 3 7\n",
      "8 0 4\n",
      "2\n"
     ]
    }
   ],
   "source": [
    "#matrix x shape multiply:\n",
    "a=int(input())\n",
    "b=[]\n",
    "for i in range(a):\n",
    "    temp=list(map(int,input().split()))\n",
    "    b.append(temp)\n",
    "j1=0\n",
    "j2=a-1\n",
    "sum1=0\n",
    "sum2=0\n",
    "k=0\n",
    "while a>k:\n",
    "    sum1=sum1+b[k][j1]\n",
    "    sum2=sum2+b[k][j2]\n",
    "    k+=1\n",
    "    j1+=1\n",
    "    j2-=1\n",
    "print(abs(sum1-sum2))\n"
   ]
  },
  {
   "cell_type": "code",
   "execution_count": 1,
   "id": "d71c3af0",
   "metadata": {},
   "outputs": [
    {
     "name": "stdout",
     "output_type": "stream",
     "text": [
      "20\n",
      "45 66 88 88 88 88 77 55 99 55 66 3 2 4 5 6 7 8 9 8 7 6 5 66 88 55\n",
      "0 0 1 1 1 2 2 2 2 1 0 0 0 0 0 0 0 0 0 0 0 0 0 0 0 0 0 0 0 0 0 0 0 0 0 0 0 0 0 0 0 0 0 0 0 1 0 0 0 0 0 0 0 0 0 3 0 0 0 0 0 0 0 0 0 0 3 0 0 0 0 0 0 0 0 0 0 1 0 0 0 0 0 0 0 0 0 0 5 0 0 0 0 0 0 0 0 0 0 1\n"
     ]
    }
   ],
   "source": [
    "#no of times the number exists:\n",
    "\n",
    "N = int(input())\n",
    "\n",
    "arr = list(map(int, input().split()))\n",
    "\n",
    "freq = [0]*100\n",
    "\n",
    "for i in arr:\n",
    "    freq[i] = freq[i]+1\n",
    "\n",
    "print (' '.join(map(str, freq)))"
   ]
  },
  {
   "cell_type": "code",
   "execution_count": 14,
   "id": "ea7be4b2",
   "metadata": {},
   "outputs": [
    {
     "name": "stdout",
     "output_type": "stream",
     "text": [
      "WFQ8FHPQFWOQXULTFTTQEEI[OFE[LMCBAJGACXWRSWQTDQEUSALC\n",
      "no\n"
     ]
    }
   ],
   "source": [
    "# pangram or not:\n",
    "a='abcdefghijklmnopqrstuvwxyz'\n",
    "x=input()\n",
    "def panagram(leo):\n",
    "    for i in a:\n",
    "        if i not in leo.lower():\n",
    "            return False\n",
    "    return True\n",
    "if (panagram(x)== True):\n",
    "    print('yes')\n",
    "else:\n",
    "    print('no')\n",
    "        \n",
    "        \n",
    "        \n"
   ]
  },
  {
   "cell_type": "code",
   "execution_count": null,
   "id": "1abb8bfb",
   "metadata": {},
   "outputs": [],
   "source": [
    "#hill downhill and uphill valley count:\n",
    "\n",
    "x=input()\n",
    "a1=input()\n",
    "a=a1\n",
    "temp=[]\n",
    "p=0\n",
    "count=0\n",
    "for i in a:\n",
    "    if a.startswith('U'):\n",
    "        a.remove(i)\n",
    "for i in a:\n",
    "    if i=='D':\n",
    "        temp.append(-1)\n",
    "    if i=='U':\n",
    "        temp.append(+1)        \n",
    "for j in temp:\n",
    "    p+=j\n",
    "    if p==0:\n",
    "        count+=1\n",
    "print(count)  "
   ]
  },
  {
   "cell_type": "code",
   "execution_count": null,
   "id": "b4c71a7c",
   "metadata": {},
   "outputs": [],
   "source": [
    "# pairs of socks using counter container:\n",
    "\n",
    "from collections import Counter\n",
    "\n",
    "n = int(input())\n",
    "c = Counter(map(int, input().split()))\n",
    "ans = 0\n",
    "\n",
    "for x in c:\n",
    "    ans += c[x] // 2\n",
    "    \n",
    "print(ans)"
   ]
  },
  {
   "cell_type": "code",
   "execution_count": 8,
   "id": "0a83fda1",
   "metadata": {},
   "outputs": [
    {
     "name": "stdout",
     "output_type": "stream",
     "text": [
      "5 -7 2 -9 16 10 7\n",
      "[-9, -7, 2, 5, 7, 10, 16]\n"
     ]
    }
   ],
   "source": [
    "# list in ascending order and find the middle value [median]\n",
    "\n",
    "a=list(map(int,input().split()))\n",
    "a.sort()\n",
    "b=len(a)/2\n",
    "if b%1!=0:\n",
    "    b+=0.5\n",
    "a[int(b-1)]\n"
   ]
  },
  {
   "cell_type": "code",
   "execution_count": 6,
   "id": "ffcaeab3",
   "metadata": {},
   "outputs": [
    {
     "name": "stdout",
     "output_type": "stream",
     "text": [
      "6\n",
      "1 3 2 5 5 5 \n",
      "5\n"
     ]
    }
   ],
   "source": [
    "n=int(input())\n",
    "a=list(map(int,input().strip().split(' ')))\n",
    "a.sort()\n",
    "ans=a[0]\n",
    "max=1\n",
    "for i in range(1,n):\n",
    "    if a[i]==a[i-1]:\n",
    "        count+=1\n",
    "    else:\n",
    "        count=1\n",
    "    if count>max:\n",
    "        max=count\n",
    "        ans=a[i]\n",
    "print(ans)\n",
    "        "
   ]
  },
  {
   "cell_type": "code",
   "execution_count": 1,
   "id": "ade45c66",
   "metadata": {},
   "outputs": [
    {
     "data": {
      "text/plain": [
       "'harish kumar'"
      ]
     },
     "execution_count": 1,
     "metadata": {},
     "output_type": "execute_result"
    }
   ],
   "source": [
    "stt='harish kumar'\n",
    "stt[:]"
   ]
  },
  {
   "cell_type": "code",
   "execution_count": 11,
   "id": "079c2391",
   "metadata": {},
   "outputs": [
    {
     "data": {
      "text/plain": [
       "'my name is alka'"
      ]
     },
     "execution_count": 11,
     "metadata": {},
     "output_type": "execute_result"
    }
   ],
   "source": [
    "sss='my name is alka'\n",
    "sss[-len(sss):]\n"
   ]
  },
  {
   "cell_type": "code",
   "execution_count": 17,
   "id": "75a82588",
   "metadata": {},
   "outputs": [
    {
     "data": {
      "text/plain": [
       "'lo '"
      ]
     },
     "execution_count": 17,
     "metadata": {},
     "output_type": "execute_result"
    }
   ],
   "source": [
    "s='hi world'\n",
    "s[-2:-7:-2]"
   ]
  },
  {
   "cell_type": "code",
   "execution_count": 13,
   "id": "242edd42",
   "metadata": {},
   "outputs": [
    {
     "data": {
      "text/plain": [
       "'dlrow ih'"
      ]
     },
     "execution_count": 13,
     "metadata": {},
     "output_type": "execute_result"
    }
   ],
   "source": [
    "s[::]"
   ]
  },
  {
   "cell_type": "code",
   "execution_count": 23,
   "id": "14ceb6f5",
   "metadata": {},
   "outputs": [
    {
     "data": {
      "text/plain": [
       "'ha&%hah'"
      ]
     },
     "execution_count": 23,
     "metadata": {},
     "output_type": "execute_result"
    }
   ],
   "source": [
    "d='##ha&%hah&*&*'\n",
    "v=d.strip('#''%''*''&')\n",
    "v"
   ]
  },
  {
   "cell_type": "code",
   "execution_count": 9,
   "id": "7d3db121",
   "metadata": {},
   "outputs": [
    {
     "data": {
      "text/plain": [
       "array([1, 2])"
      ]
     },
     "execution_count": 9,
     "metadata": {},
     "output_type": "execute_result"
    }
   ],
   "source": [
    "import numpy as np\n",
    "np.arange(1,3)"
   ]
  },
  {
   "cell_type": "code",
   "execution_count": 10,
   "id": "ea65e963",
   "metadata": {},
   "outputs": [
    {
     "data": {
      "text/plain": [
       "array([3. , 3.5, 4. , 4.5, 5. , 5.5])"
      ]
     },
     "execution_count": 10,
     "metadata": {},
     "output_type": "execute_result"
    }
   ],
   "source": [
    "np.arange(3,6,0.5)"
   ]
  },
  {
   "cell_type": "code",
   "execution_count": 13,
   "id": "b1203c3d",
   "metadata": {},
   "outputs": [
    {
     "data": {
      "text/plain": [
       "array([[0.87686733, 0.89097188, 0.0861045 , 0.25284902, 0.0325501 ,\n",
       "        0.0275286 , 0.556281  , 0.72791907, 0.38948234]])"
      ]
     },
     "execution_count": 13,
     "metadata": {},
     "output_type": "execute_result"
    }
   ],
   "source": [
    "np.random.rand(1,9)"
   ]
  },
  {
   "cell_type": "code",
   "execution_count": 19,
   "id": "ad0d123b",
   "metadata": {},
   "outputs": [],
   "source": [
    "import numpy as np\n",
    "import pandas as pd\n",
    "\n"
   ]
  },
  {
   "cell_type": "code",
   "execution_count": 22,
   "id": "5bd0e3eb",
   "metadata": {},
   "outputs": [],
   "source": [
    "df=pd.read_csv('Dataset.csv')"
   ]
  },
  {
   "cell_type": "code",
   "execution_count": 23,
   "id": "eba0915f",
   "metadata": {},
   "outputs": [
    {
     "data": {
      "text/plain": [
       "(13, 6)"
      ]
     },
     "execution_count": 23,
     "metadata": {},
     "output_type": "execute_result"
    }
   ],
   "source": [
    "df.shape"
   ]
  },
  {
   "cell_type": "code",
   "execution_count": 24,
   "id": "8336cf80",
   "metadata": {},
   "outputs": [
    {
     "name": "stdout",
     "output_type": "stream",
     "text": [
      "<class 'pandas.core.frame.DataFrame'>\n",
      "RangeIndex: 13 entries, 0 to 12\n",
      "Data columns (total 6 columns):\n",
      " #   Column       Non-Null Count  Dtype  \n",
      "---  ------       --------------  -----  \n",
      " 0   Candidate    13 non-null     object \n",
      " 1   Gender       13 non-null     object \n",
      " 2   Height       13 non-null     int64  \n",
      " 3   Weight       13 non-null     int64  \n",
      " 4   Record time  13 non-null     float64\n",
      " 5   Rank         13 non-null     int64  \n",
      "dtypes: float64(1), int64(3), object(2)\n",
      "memory usage: 752.0+ bytes\n"
     ]
    }
   ],
   "source": [
    "df.info()\n"
   ]
  },
  {
   "cell_type": "code",
   "execution_count": 27,
   "id": "9df86990",
   "metadata": {},
   "outputs": [
    {
     "data": {
      "text/html": [
       "<div>\n",
       "<style scoped>\n",
       "    .dataframe tbody tr th:only-of-type {\n",
       "        vertical-align: middle;\n",
       "    }\n",
       "\n",
       "    .dataframe tbody tr th {\n",
       "        vertical-align: top;\n",
       "    }\n",
       "\n",
       "    .dataframe thead th {\n",
       "        text-align: right;\n",
       "    }\n",
       "</style>\n",
       "<table border=\"1\" class=\"dataframe\">\n",
       "  <thead>\n",
       "    <tr style=\"text-align: right;\">\n",
       "      <th></th>\n",
       "      <th>Candidate</th>\n",
       "      <th>Gender</th>\n",
       "      <th>Height</th>\n",
       "      <th>Weight</th>\n",
       "      <th>Record time</th>\n",
       "      <th>Rank</th>\n",
       "    </tr>\n",
       "  </thead>\n",
       "  <tbody>\n",
       "    <tr>\n",
       "      <th>0</th>\n",
       "      <td>Alan</td>\n",
       "      <td>M</td>\n",
       "      <td>180</td>\n",
       "      <td>55</td>\n",
       "      <td>9.12</td>\n",
       "      <td>1</td>\n",
       "    </tr>\n",
       "    <tr>\n",
       "      <th>1</th>\n",
       "      <td>Bob</td>\n",
       "      <td>M</td>\n",
       "      <td>185</td>\n",
       "      <td>50</td>\n",
       "      <td>10.50</td>\n",
       "      <td>3</td>\n",
       "    </tr>\n",
       "    <tr>\n",
       "      <th>2</th>\n",
       "      <td>Candy</td>\n",
       "      <td>F</td>\n",
       "      <td>168</td>\n",
       "      <td>52</td>\n",
       "      <td>11.50</td>\n",
       "      <td>6</td>\n",
       "    </tr>\n",
       "    <tr>\n",
       "      <th>3</th>\n",
       "      <td>Den</td>\n",
       "      <td>M</td>\n",
       "      <td>184</td>\n",
       "      <td>58</td>\n",
       "      <td>10.10</td>\n",
       "      <td>2</td>\n",
       "    </tr>\n",
       "    <tr>\n",
       "      <th>4</th>\n",
       "      <td>Ela</td>\n",
       "      <td>F</td>\n",
       "      <td>172</td>\n",
       "      <td>54</td>\n",
       "      <td>11.30</td>\n",
       "      <td>6</td>\n",
       "    </tr>\n",
       "    <tr>\n",
       "      <th>5</th>\n",
       "      <td>Fenny</td>\n",
       "      <td>F</td>\n",
       "      <td>169</td>\n",
       "      <td>53</td>\n",
       "      <td>10.90</td>\n",
       "      <td>5</td>\n",
       "    </tr>\n",
       "    <tr>\n",
       "      <th>6</th>\n",
       "      <td>Guru</td>\n",
       "      <td>M</td>\n",
       "      <td>182</td>\n",
       "      <td>60</td>\n",
       "      <td>12.30</td>\n",
       "      <td>6</td>\n",
       "    </tr>\n",
       "    <tr>\n",
       "      <th>7</th>\n",
       "      <td>Heena</td>\n",
       "      <td>F</td>\n",
       "      <td>175</td>\n",
       "      <td>52</td>\n",
       "      <td>10.20</td>\n",
       "      <td>2</td>\n",
       "    </tr>\n",
       "    <tr>\n",
       "      <th>8</th>\n",
       "      <td>Ila</td>\n",
       "      <td>F</td>\n",
       "      <td>169</td>\n",
       "      <td>55</td>\n",
       "      <td>9.80</td>\n",
       "      <td>1</td>\n",
       "    </tr>\n",
       "    <tr>\n",
       "      <th>9</th>\n",
       "      <td>Jack</td>\n",
       "      <td>M</td>\n",
       "      <td>186</td>\n",
       "      <td>60</td>\n",
       "      <td>11.20</td>\n",
       "      <td>4</td>\n",
       "    </tr>\n",
       "    <tr>\n",
       "      <th>10</th>\n",
       "      <td>Kim</td>\n",
       "      <td>F</td>\n",
       "      <td>168</td>\n",
       "      <td>51</td>\n",
       "      <td>10.40</td>\n",
       "      <td>3</td>\n",
       "    </tr>\n",
       "    <tr>\n",
       "      <th>11</th>\n",
       "      <td>Leena</td>\n",
       "      <td>F</td>\n",
       "      <td>164</td>\n",
       "      <td>53</td>\n",
       "      <td>10.60</td>\n",
       "      <td>4</td>\n",
       "    </tr>\n",
       "    <tr>\n",
       "      <th>12</th>\n",
       "      <td>Mak</td>\n",
       "      <td>M</td>\n",
       "      <td>184</td>\n",
       "      <td>64</td>\n",
       "      <td>9.90</td>\n",
       "      <td>2</td>\n",
       "    </tr>\n",
       "  </tbody>\n",
       "</table>\n",
       "</div>"
      ],
      "text/plain": [
       "   Candidate Gender  Height  Weight  Record time  Rank\n",
       "0       Alan      M     180      55         9.12     1\n",
       "1        Bob      M     185      50        10.50     3\n",
       "2      Candy      F     168      52        11.50     6\n",
       "3        Den      M     184      58        10.10     2\n",
       "4        Ela      F     172      54        11.30     6\n",
       "5      Fenny      F     169      53        10.90     5\n",
       "6       Guru      M     182      60        12.30     6\n",
       "7      Heena      F     175      52        10.20     2\n",
       "8        Ila      F     169      55         9.80     1\n",
       "9       Jack      M     186      60        11.20     4\n",
       "10       Kim      F     168      51        10.40     3\n",
       "11     Leena      F     164      53        10.60     4\n",
       "12       Mak      M     184      64         9.90     2"
      ]
     },
     "execution_count": 27,
     "metadata": {},
     "output_type": "execute_result"
    }
   ],
   "source": [
    "df.head(13)"
   ]
  },
  {
   "cell_type": "code",
   "execution_count": 33,
   "id": "b71f6b0b",
   "metadata": {},
   "outputs": [
    {
     "data": {
      "text/plain": [
       "0     M\n",
       "1     M\n",
       "2     F\n",
       "3     M\n",
       "4     F\n",
       "5     F\n",
       "6     M\n",
       "7     F\n",
       "8     F\n",
       "9     M\n",
       "10    F\n",
       "11    F\n",
       "12    M\n",
       "Name: Gender, dtype: object"
      ]
     },
     "execution_count": 33,
     "metadata": {},
     "output_type": "execute_result"
    }
   ],
   "source": [
    "df['Gender']"
   ]
  },
  {
   "cell_type": "code",
   "execution_count": 34,
   "id": "b89b8b31",
   "metadata": {},
   "outputs": [
    {
     "data": {
      "text/plain": [
       "dtype('O')"
      ]
     },
     "execution_count": 34,
     "metadata": {},
     "output_type": "execute_result"
    }
   ],
   "source": [
    "df['Gender'].dtypes"
   ]
  },
  {
   "cell_type": "code",
   "execution_count": 35,
   "id": "8c14d8f3",
   "metadata": {},
   "outputs": [
    {
     "data": {
      "text/plain": [
       "Height    182\n",
       "Gender      M\n",
       "Rank        6\n",
       "Name: 6, dtype: object"
      ]
     },
     "execution_count": 35,
     "metadata": {},
     "output_type": "execute_result"
    }
   ],
   "source": [
    "df.loc[6,['Height','Gender','Rank']]"
   ]
  },
  {
   "cell_type": "code",
   "execution_count": 41,
   "id": "b74bbb96",
   "metadata": {},
   "outputs": [
    {
     "data": {
      "text/html": [
       "<div>\n",
       "<style scoped>\n",
       "    .dataframe tbody tr th:only-of-type {\n",
       "        vertical-align: middle;\n",
       "    }\n",
       "\n",
       "    .dataframe tbody tr th {\n",
       "        vertical-align: top;\n",
       "    }\n",
       "\n",
       "    .dataframe thead th {\n",
       "        text-align: right;\n",
       "    }\n",
       "</style>\n",
       "<table border=\"1\" class=\"dataframe\">\n",
       "  <thead>\n",
       "    <tr style=\"text-align: right;\">\n",
       "      <th></th>\n",
       "      <th>Gender</th>\n",
       "      <th>Height</th>\n",
       "      <th>Weight</th>\n",
       "      <th>Record time</th>\n",
       "      <th>Rank</th>\n",
       "    </tr>\n",
       "  </thead>\n",
       "  <tbody>\n",
       "    <tr>\n",
       "      <th>0</th>\n",
       "      <td>M</td>\n",
       "      <td>180</td>\n",
       "      <td>55</td>\n",
       "      <td>9.12</td>\n",
       "      <td>1</td>\n",
       "    </tr>\n",
       "    <tr>\n",
       "      <th>1</th>\n",
       "      <td>M</td>\n",
       "      <td>185</td>\n",
       "      <td>50</td>\n",
       "      <td>10.50</td>\n",
       "      <td>3</td>\n",
       "    </tr>\n",
       "  </tbody>\n",
       "</table>\n",
       "</div>"
      ],
      "text/plain": [
       "  Gender  Height  Weight  Record time  Rank\n",
       "0      M     180      55         9.12     1\n",
       "1      M     185      50        10.50     3"
      ]
     },
     "execution_count": 41,
     "metadata": {},
     "output_type": "execute_result"
    }
   ],
   "source": [
    "df.iloc[0:2,1:]"
   ]
  },
  {
   "cell_type": "code",
   "execution_count": 2,
   "id": "2216c537",
   "metadata": {},
   "outputs": [
    {
     "name": "stdout",
     "output_type": "stream",
     "text": [
      "10110\n",
      "01010\n",
      "0\n"
     ]
    }
   ],
   "source": [
    "# given 2 strings perform xor operation:\n",
    "\n",
    "def strings_xor(s, t):\n",
    "    res = \"\"\n",
    "    for i in range(len(s)):\n",
    "        if s[i] == t[i]:\n",
    "            res += '0'\n",
    "        else:\n",
    "            res += '1'\n",
    "\n",
    "    return res\n",
    "\n",
    "s = input()\n",
    "t = input()\n",
    "print(strings_xor(s, t))"
   ]
  },
  {
   "cell_type": "code",
   "execution_count": 11,
   "id": "e332f11d",
   "metadata": {},
   "outputs": [
    {
     "name": "stdout",
     "output_type": "stream",
     "text": [
      "5\n",
      "4 5 6 3 9\n",
      "4\n",
      "3\n",
      "2\n",
      "1\n",
      "[3, 6, 9, 5, 4]\n"
     ]
    }
   ],
   "source": [
    "a=int(input())\n",
    "n=list(map(int,input().split()))\n",
    "l=len(n)\n",
    "l1=a\n",
    "new=[]\n",
    "k=0\n",
    "for i in range(a-1):\n",
    "    if l1>0:\n",
    "        k=int(round(l1+1)/2)\n",
    "        l1-=1\n",
    "        print(l1)\n",
    "        new.append(n[k])\n",
    "        n.pop(k)\n",
    "        k=0\n",
    "new.append(n[0])\n",
    "print(new)\n",
    "\n",
    "       "
   ]
  },
  {
   "cell_type": "code",
   "execution_count": 8,
   "id": "d0184c3f",
   "metadata": {},
   "outputs": [
    {
     "name": "stdout",
     "output_type": "stream",
     "text": [
      "         *\n",
      "       ***\n",
      "     *****\n",
      "   *******\n",
      " *********\n"
     ]
    }
   ],
   "source": [
    "ms1='*'\n",
    "for i in range(1,11,2):\n",
    "    print('{:>10s}'.format(ms1*i))"
   ]
  },
  {
   "cell_type": "code",
   "execution_count": 7,
   "id": "80f76058",
   "metadata": {},
   "outputs": [
    {
     "name": "stdout",
     "output_type": "stream",
     "text": [
      "*\n",
      "***\n",
      "*****\n",
      "*******\n",
      "*********\n"
     ]
    }
   ],
   "source": [
    "ms1='*'\n",
    "for i in range(1,11,2):\n",
    "    print((ms1*i))"
   ]
  },
  {
   "cell_type": "code",
   "execution_count": 20,
   "id": "d6d59c14",
   "metadata": {},
   "outputs": [
    {
     "name": "stdout",
     "output_type": "stream",
     "text": [
      "    *     \n",
      "   ***    \n",
      "  *****   \n",
      " *******  \n",
      "********* \n"
     ]
    }
   ],
   "source": [
    "s='*'\n",
    "for i in range (1,11,2):\n",
    "    print('{:^10s}'.format(s*i))"
   ]
  },
  {
   "cell_type": "code",
   "execution_count": 21,
   "id": "43279d3d",
   "metadata": {},
   "outputs": [],
   "source": [
    "#key sort logic\n",
    "def keysortinglogic(obj):\n",
    "    if isinstance(obj,(int,float)):\n",
    "        return obj\n",
    "    if isinstance(obj,str):\n",
    "        return len(obj)\n",
    "    return 0\n"
   ]
  },
  {
   "cell_type": "code",
   "execution_count": 24,
   "id": "0e40141b",
   "metadata": {},
   "outputs": [
    {
     "name": "stdout",
     "output_type": "stream",
     "text": [
      "[22, 11, 77, 55, 44, 'hello', 33, [222, 333, 334]]\n"
     ]
    },
    {
     "data": {
      "text/plain": [
       "[[222, 333, 334], 'hello', 11, 22, 33, 44, 55, 77]"
      ]
     },
     "execution_count": 24,
     "metadata": {},
     "output_type": "execute_result"
    }
   ],
   "source": [
    "#keysorting\n",
    "mylist1=[22,11,77,55,44,'hello',33,[222,333,334]]\n",
    "print(mylist1)\n",
    "mylist1.sort(key=keysortinglogic)\n",
    "mylist1"
   ]
  },
  {
   "cell_type": "code",
   "execution_count": null,
   "id": "6804780a",
   "metadata": {},
   "outputs": [],
   "source": [
    "\"\"\"6. Write a program to remove space from keys of the given dictionary (use for loop)\n",
    "fruity = {'Fruits 01' : 'Apple', 'Fruits 02' : 'Orange', 'Fruits 0 3 ': 'Grapes'}\n",
    "\n",
    "(Output) New dictionary : {'Fruits01': 'Apple', 'Fruits02': 'Orange', 'Fruits03': 'Grapes'}\"\"\"\n",
    "\n",
    "\n",
    "fruity = {'Fruits 01' : 'Apple', 'Fruits 02' : 'Orange', 'Fruits 0 3 ': 'Grapes'}\n",
    "f1={}\n",
    "for k in fruity:\n",
    "    f1[k.replace(\" \",\"\")]=fruity[k]\n",
    "print(f1)"
   ]
  },
  {
   "cell_type": "code",
   "execution_count": 1,
   "id": "0f770a17",
   "metadata": {},
   "outputs": [
    {
     "name": "stdout",
     "output_type": "stream",
     "text": [
      "gfdsa\n"
     ]
    }
   ],
   "source": [
    "#reverse a string using an empty string:\n",
    "a='asdfg'\n",
    "c=''\n",
    "for i in a:\n",
    "    c=i+c\n",
    "print(c)"
   ]
  },
  {
   "cell_type": "code",
   "execution_count": null,
   "id": "876a5da2",
   "metadata": {},
   "outputs": [],
   "source": [
    "#count of words program\n",
    "a=list(input('enter the sentence:').split(' '))\n",
    "b={}\n",
    "for i in a:\n",
    "    b[i]=a.count(i)\n",
    "print(b)"
   ]
  },
  {
   "cell_type": "code",
   "execution_count": 3,
   "id": "e0f6c5f3",
   "metadata": {},
   "outputs": [
    {
     "data": {
      "text/plain": [
       "[1, 4, 27, 16, 125, 36, 343, 64, 729, 100]"
      ]
     },
     "execution_count": 3,
     "metadata": {},
     "output_type": "execute_result"
    }
   ],
   "source": [
    "#list comprehension single line if else statement even square and odd cube:\n",
    "a=[1,2,3,4,5,6,7,8,9,10]\n",
    "b=[i**2 if i%2==0 else i**3  for i in a ]\n",
    "b"
   ]
  },
  {
   "cell_type": "code",
   "execution_count": 2,
   "id": "ece89301",
   "metadata": {},
   "outputs": [
    {
     "data": {
      "text/plain": [
       "[[1, 2, 3, 4, 6, 8, 12, 24], [1, 2, 4, 11, 22, 44], [1, 2, 4, 7, 14, 28]]"
      ]
     },
     "execution_count": 2,
     "metadata": {},
     "output_type": "execute_result"
    }
   ],
   "source": [
    "#factorial of 3 numbers list within list\n",
    "a=[24,44,28]\n",
    "b=[ [i for i in range(1,num+1) if num%i==0] for num in a]\n",
    "b"
   ]
  },
  {
   "cell_type": "code",
   "execution_count": 5,
   "id": "36345326",
   "metadata": {},
   "outputs": [
    {
     "data": {
      "text/plain": [
       "40320"
      ]
     },
     "execution_count": 5,
     "metadata": {},
     "output_type": "execute_result"
    }
   ],
   "source": [
    "#recursive function:\n",
    "def funn(n):\n",
    "    if n==0:\n",
    "        return 1\n",
    "    return n*funn(n-1)\n",
    "funn(8)"
   ]
  },
  {
   "cell_type": "code",
   "execution_count": 15,
   "id": "877edf0f",
   "metadata": {},
   "outputs": [
    {
     "name": "stdout",
     "output_type": "stream",
     "text": [
      "[0, 1, 1, 2, 3, 5, 8, 13, 21, 34]\n"
     ]
    }
   ],
   "source": [
    "#fabinocc series number:\n",
    "def fab(n):\n",
    "    if n<=0:\n",
    "        return 0\n",
    "    if n==1:\n",
    "        return 1\n",
    "    return fab(n-1)+fab(n-2)\n",
    "fb=[fab(i) for i in range(10)]\n",
    "print(fb)"
   ]
  },
  {
   "cell_type": "code",
   "execution_count": null,
   "id": "454db4dd",
   "metadata": {},
   "outputs": [],
   "source": []
  }
 ],
 "metadata": {
  "kernelspec": {
   "display_name": "Python 3 (ipykernel)",
   "language": "python",
   "name": "python3"
  },
  "language_info": {
   "codemirror_mode": {
    "name": "ipython",
    "version": 3
   },
   "file_extension": ".py",
   "mimetype": "text/x-python",
   "name": "python",
   "nbconvert_exporter": "python",
   "pygments_lexer": "ipython3",
   "version": "3.9.12"
  },
  "vscode": {
   "interpreter": {
    "hash": "0e6bd8d351b382379b86d6ce7b7f0f743bf9407cfe430b05ece3b5fde68c3712"
   }
  }
 },
 "nbformat": 4,
 "nbformat_minor": 5
}
